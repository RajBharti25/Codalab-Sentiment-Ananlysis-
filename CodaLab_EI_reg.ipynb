{
  "nbformat": 4,
  "nbformat_minor": 0,
  "metadata": {
    "colab": {
      "name": "CodaLab_EI_reg.ipynb",
      "provenance": [],
      "include_colab_link": true
    },
    "kernelspec": {
      "name": "python3",
      "display_name": "Python 3"
    },
    "accelerator": "TPU"
  },
  "cells": [
    {
      "cell_type": "markdown",
      "metadata": {
        "id": "view-in-github",
        "colab_type": "text"
      },
      "source": [
        "<a href=\"https://colab.research.google.com/github/RajBharti25/Codalab-Sentiment-Ananlysis-/blob/master/CodaLab_EI_reg.ipynb\" target=\"_parent\"><img src=\"https://colab.research.google.com/assets/colab-badge.svg\" alt=\"Open In Colab\"/></a>"
      ]
    },
    {
      "cell_type": "code",
      "metadata": {
        "id": "dV28RdLuwvIC",
        "colab_type": "code",
        "outputId": "e9e8a3f8-c55b-4121-f0fb-2b22af03c640",
        "colab": {
          "base_uri": "https://localhost:8080/",
          "height": 121
        }
      },
      "source": [
        "from google.colab import drive\n",
        "drive.mount('/content/gdrive')"
      ],
      "execution_count": 0,
      "outputs": [
        {
          "output_type": "stream",
          "text": [
            "Go to this URL in a browser: https://accounts.google.com/o/oauth2/auth?client_id=947318989803-6bn6qk8qdgf4n4g3pfee6491hc0brc4i.apps.googleusercontent.com&redirect_uri=urn%3aietf%3awg%3aoauth%3a2.0%3aoob&response_type=code&scope=email%20https%3a%2f%2fwww.googleapis.com%2fauth%2fdocs.test%20https%3a%2f%2fwww.googleapis.com%2fauth%2fdrive%20https%3a%2f%2fwww.googleapis.com%2fauth%2fdrive.photos.readonly%20https%3a%2f%2fwww.googleapis.com%2fauth%2fpeopleapi.readonly\n",
            "\n",
            "Enter your authorization code:\n",
            "··········\n",
            "Mounted at /content/gdrive\n"
          ],
          "name": "stdout"
        }
      ]
    },
    {
      "cell_type": "code",
      "metadata": {
        "id": "eoWQH4cvP83J",
        "colab_type": "code",
        "outputId": "c2ae597c-3046-4929-b48e-307320d4a997",
        "colab": {
          "base_uri": "https://localhost:8080/",
          "height": 34
        }
      },
      "source": [
        "!pwd"
      ],
      "execution_count": 0,
      "outputs": [
        {
          "output_type": "stream",
          "text": [
            "/content\n"
          ],
          "name": "stdout"
        }
      ]
    },
    {
      "cell_type": "code",
      "metadata": {
        "id": "84T6DXjd0V5X",
        "colab_type": "code",
        "outputId": "2052ee5e-877e-435b-b39c-5e21d39d062d",
        "colab": {
          "base_uri": "https://localhost:8080/",
          "height": 34
        }
      },
      "source": [
        "cd gdrive/My Drive/Colab Notebooks/CodaLab/working_directory"
      ],
      "execution_count": 0,
      "outputs": [
        {
          "output_type": "stream",
          "text": [
            "/content/gdrive/My Drive/Colab Notebooks/CodaLab/working_directory\n"
          ],
          "name": "stdout"
        }
      ]
    },
    {
      "cell_type": "code",
      "metadata": {
        "id": "cAHBIr0Hx95L",
        "colab_type": "code",
        "colab": {}
      },
      "source": [
        "import numpy as np\n",
        "np.random.seed(0)\n",
        "from keras.models import Model\n",
        "from keras import optimizers\n",
        "from keras.layers import Dense,Input,Dropout,LSTM,Activation\n",
        "from keras.layers.embeddings import Embedding\n",
        "from keras.preprocessing import sequence\n",
        "from keras.initializers import glorot_uniform\n",
        "np.random.seed(1)"
      ],
      "execution_count": 0,
      "outputs": []
    },
    {
      "cell_type": "code",
      "metadata": {
        "id": "i7ECbiATTH57",
        "colab_type": "code",
        "colab": {}
      },
      "source": [
        "file1=open(r\"/content/gdrive/My Drive/Colab Notebooks/CodaLab/EI-reg-En-train/EI-reg-En-anger-train.txt\")"
      ],
      "execution_count": 0,
      "outputs": []
    },
    {
      "cell_type": "code",
      "metadata": {
        "id": "zqQTuiwnISp1",
        "colab_type": "code",
        "colab": {}
      },
      "source": [
        "ID = []\n",
        "Tweet = []\n",
        "Affect_Dimension = []\n",
        "Score = []\n",
        "lines=file1.read()\n",
        "for line in lines.split('\\n'):\n",
        "  item=line.split('\\t')\n",
        "  if(len(item)<4):\n",
        "      continue\n",
        "  ID.append(item[0])\n",
        "  Tweet.append(item[1])\n",
        "  Affect_Dimension.append(item[2])\n",
        "  Score.append(item[3])\n",
        "file1.close()"
      ],
      "execution_count": 0,
      "outputs": []
    },
    {
      "cell_type": "code",
      "metadata": {
        "id": "vMp82VVxLUxM",
        "colab_type": "code",
        "colab": {}
      },
      "source": [
        "import pandas as pd\n",
        "df = pd.DataFrame(columns =['ID','Tweet','Affect','Score'])\n",
        "df['ID']=ID\n",
        "df['Tweet']=Tweet\n",
        "df['Affect'] = Affect_Dimension\n",
        "df['Score']=Score\n",
        "df.head()\n",
        "df.drop(axis=0,index=0, inplace=True)\n",
        "df.to_csv('Data.csv')\n",
        "df.head(10)\n",
        "d1=np.array(Tweet)"
      ],
      "execution_count": 0,
      "outputs": []
    },
    {
      "cell_type": "code",
      "metadata": {
        "id": "W7TzqKkg7hXj",
        "colab_type": "code",
        "outputId": "20c87960-c98c-4169-c6ca-cf52e434f150",
        "colab": {
          "base_uri": "https://localhost:8080/",
          "height": 50
        }
      },
      "source": [
        "import re\n",
        "import nltk\n",
        "nltk.download('wordnet')\n",
        "wnl = nltk.WordNetLemmatizer()"
      ],
      "execution_count": 0,
      "outputs": [
        {
          "output_type": "stream",
          "text": [
            "[nltk_data] Downloading package wordnet to /root/nltk_data...\n",
            "[nltk_data]   Unzipping corpora/wordnet.zip.\n"
          ],
          "name": "stdout"
        }
      ]
    },
    {
      "cell_type": "code",
      "metadata": {
        "id": "5ClsTcNwo0_K",
        "colab_type": "code",
        "outputId": "0c347d25-298b-4fea-9b50-7b16b9653723",
        "colab": {
          "base_uri": "https://localhost:8080/",
          "height": 151
        }
      },
      "source": [
        "X=df['Tweet']\n",
        "Y=df['Score']\n",
        "X=X[:].apply(lambda x:x.lower())\n",
        "X=X[:].apply(lambda x:re.sub(r'@(?i)[a-zA-Z0-9_]+','',x))\n",
        "X=X[:].apply(lambda x:re.sub('[^a-zA-z0-9\\s]','',x))\n",
        "print(X[1])\n",
        "X=X[:].apply(lambda x:x.strip())\n",
        "print(X[1])\n",
        "print(X[2])\n",
        "print(X[3])\n",
        "print(X[4])\n",
        "print(X[5])"
      ],
      "execution_count": 0,
      "outputs": [
        {
          "output_type": "stream",
          "text": [
            "  shut up hashtags are cool offended\n",
            "shut up hashtags are cool offended\n",
            "it makes me so fucking irate jesus nobody is calling ppl who like hajime abusive stop with the strawmen lmao\n",
            "lol adam the bull with his fake outrage\n",
            "passed away early this morning in a fast and furious styled car crash as he was leaving an atl strip club thats rough stuff\n",
            "lol wow i was gonna say really haha have you seen chris or nah you dont even snap me anymore dude\n"
          ],
          "name": "stdout"
        },
        {
          "output_type": "stream",
          "text": [
            "/usr/local/lib/python3.6/dist-packages/ipykernel_launcher.py:4: DeprecationWarning: Flags not at the start of the expression '@(?i)[a-zA-Z0-9_]+'\n",
            "  after removing the cwd from sys.path.\n"
          ],
          "name": "stderr"
        }
      ]
    },
    {
      "cell_type": "code",
      "metadata": {
        "id": "z1UH7TySAQrN",
        "colab_type": "code",
        "outputId": "db54fefa-ab0b-4669-b980-ab92c94ca467",
        "colab": {
          "base_uri": "https://localhost:8080/",
          "height": 238
        }
      },
      "source": [
        "X=X[:].apply(lambda x:x.split())\n",
        "print(X[1])\n",
        "print(X[2])\n",
        "print(X[3])\n",
        "print(X[4])\n",
        "print(X[5])\n",
        "print('\\n\\n')\n",
        "X1=X[:].apply(lambda x:wnl.lemmatize(str(x[:])))\n",
        "print(X1[1])\n",
        "print(X1[2])\n",
        "print(X1[3])\n",
        "print(X1[5])"
      ],
      "execution_count": 0,
      "outputs": [
        {
          "output_type": "stream",
          "text": [
            "['shut', 'up', 'hashtags', 'are', 'cool', 'offended']\n",
            "['it', 'makes', 'me', 'so', 'fucking', 'irate', 'jesus', 'nobody', 'is', 'calling', 'ppl', 'who', 'like', 'hajime', 'abusive', 'stop', 'with', 'the', 'strawmen', 'lmao']\n",
            "['lol', 'adam', 'the', 'bull', 'with', 'his', 'fake', 'outrage']\n",
            "['passed', 'away', 'early', 'this', 'morning', 'in', 'a', 'fast', 'and', 'furious', 'styled', 'car', 'crash', 'as', 'he', 'was', 'leaving', 'an', 'atl', 'strip', 'club', 'thats', 'rough', 'stuff']\n",
            "['lol', 'wow', 'i', 'was', 'gonna', 'say', 'really', 'haha', 'have', 'you', 'seen', 'chris', 'or', 'nah', 'you', 'dont', 'even', 'snap', 'me', 'anymore', 'dude']\n",
            "\n",
            "\n",
            "\n",
            "['shut', 'up', 'hashtags', 'are', 'cool', 'offended']\n",
            "['it', 'makes', 'me', 'so', 'fucking', 'irate', 'jesus', 'nobody', 'is', 'calling', 'ppl', 'who', 'like', 'hajime', 'abusive', 'stop', 'with', 'the', 'strawmen', 'lmao']\n",
            "['lol', 'adam', 'the', 'bull', 'with', 'his', 'fake', 'outrage']\n",
            "['lol', 'wow', 'i', 'was', 'gonna', 'say', 'really', 'haha', 'have', 'you', 'seen', 'chris', 'or', 'nah', 'you', 'dont', 'even', 'snap', 'me', 'anymore', 'dude']\n"
          ],
          "name": "stdout"
        }
      ]
    },
    {
      "cell_type": "code",
      "metadata": {
        "id": "c1N_ng9_u0KT",
        "colab_type": "code",
        "outputId": "99e7519b-89b5-49e8-ad06-80db6d532433",
        "colab": {
          "base_uri": "https://localhost:8080/",
          "height": 34
        }
      },
      "source": [
        "max_len=len(max(X[:],key=len))\n",
        "max_len"
      ],
      "execution_count": 0,
      "outputs": [
        {
          "output_type": "execute_result",
          "data": {
            "text/plain": [
              "31"
            ]
          },
          "metadata": {
            "tags": []
          },
          "execution_count": 14
        }
      ]
    },
    {
      "cell_type": "code",
      "metadata": {
        "id": "EyznzKUPpMdN",
        "colab_type": "code",
        "outputId": "4e06c1ac-e2e3-4c35-ed4e-d9add7d72619",
        "colab": {
          "base_uri": "https://localhost:8080/",
          "height": 195
        }
      },
      "source": [
        "X2=pd.DataFrame(X1)\n",
        "X2.reset_index(drop=True,inplace=True)\n",
        "X2.head()"
      ],
      "execution_count": 0,
      "outputs": [
        {
          "output_type": "execute_result",
          "data": {
            "text/html": [
              "<div>\n",
              "<style scoped>\n",
              "    .dataframe tbody tr th:only-of-type {\n",
              "        vertical-align: middle;\n",
              "    }\n",
              "\n",
              "    .dataframe tbody tr th {\n",
              "        vertical-align: top;\n",
              "    }\n",
              "\n",
              "    .dataframe thead th {\n",
              "        text-align: right;\n",
              "    }\n",
              "</style>\n",
              "<table border=\"1\" class=\"dataframe\">\n",
              "  <thead>\n",
              "    <tr style=\"text-align: right;\">\n",
              "      <th></th>\n",
              "      <th>Tweet</th>\n",
              "    </tr>\n",
              "  </thead>\n",
              "  <tbody>\n",
              "    <tr>\n",
              "      <th>0</th>\n",
              "      <td>['shut', 'up', 'hashtags', 'are', 'cool', 'off...</td>\n",
              "    </tr>\n",
              "    <tr>\n",
              "      <th>1</th>\n",
              "      <td>['it', 'makes', 'me', 'so', 'fucking', 'irate'...</td>\n",
              "    </tr>\n",
              "    <tr>\n",
              "      <th>2</th>\n",
              "      <td>['lol', 'adam', 'the', 'bull', 'with', 'his', ...</td>\n",
              "    </tr>\n",
              "    <tr>\n",
              "      <th>3</th>\n",
              "      <td>['passed', 'away', 'early', 'this', 'morning',...</td>\n",
              "    </tr>\n",
              "    <tr>\n",
              "      <th>4</th>\n",
              "      <td>['lol', 'wow', 'i', 'was', 'gonna', 'say', 're...</td>\n",
              "    </tr>\n",
              "  </tbody>\n",
              "</table>\n",
              "</div>"
            ],
            "text/plain": [
              "                                               Tweet\n",
              "0  ['shut', 'up', 'hashtags', 'are', 'cool', 'off...\n",
              "1  ['it', 'makes', 'me', 'so', 'fucking', 'irate'...\n",
              "2  ['lol', 'adam', 'the', 'bull', 'with', 'his', ...\n",
              "3  ['passed', 'away', 'early', 'this', 'morning',...\n",
              "4  ['lol', 'wow', 'i', 'was', 'gonna', 'say', 're..."
            ]
          },
          "metadata": {
            "tags": []
          },
          "execution_count": 15
        }
      ]
    },
    {
      "cell_type": "code",
      "metadata": {
        "id": "614p6X3Vxots",
        "colab_type": "code",
        "colab": {}
      },
      "source": [
        "UNK_value=[-0.12920076, -0.28866628, -0.01224866, -0.05676644, -0.20210965, -0.08389011,\n",
        "      0.33359843,  0.16045167,  0.03867431,  0.17833012,  0.04696583, -0.00285802,\n",
        "      0.29099807,  0.04613704, -0.20923874, -0.06613114, -0.06822549,  0.07665912,\n",
        "      0.3134014,   0.17848536, -0.1225775,  -0.09916984, -0.07495987,  0.06413227,\n",
        "      0.14441176,  0.60894334,  0.17463093,  0.05335403, -0.01273871,  0.03474107,\n",
        "      -0.8123879,  -0.04688699,  0.20193407,  0.2031118,  -0.03935686,  0.06967544,\n",
        "      -0.01553638, -0.03405238, -0.06528071,  0.12250231,  0.13991883, -0.17446303,\n",
        "      -0.08011883,  0.0849521,  -0.01041659, -0.13705009,  0.20127155,  0.10069408,\n",
        "       0.00653003,  0.01685157]"
      ],
      "execution_count": 0,
      "outputs": []
    },
    {
      "cell_type": "code",
      "metadata": {
        "id": "HgKyynb0Syve",
        "colab_type": "code",
        "colab": {}
      },
      "source": [
        "def read_glove_vecs(glove_file):\n",
        "    with open(glove_file, 'r') as f:\n",
        "        words = set()\n",
        "        word_to_vec_map = {}\n",
        "        for line in f:\n",
        "            line = line.strip().split()\n",
        "            curr_word = line[0]\n",
        "            words.add(curr_word)\n",
        "            word_to_vec_map[curr_word] = np.array(line[1:], dtype=np.float64)\n",
        "        \n",
        "        i = 1\n",
        "        words_to_index = {}\n",
        "        index_to_words = {}\n",
        "        for w in sorted(words):\n",
        "            words_to_index[w] = i\n",
        "            index_to_words[i] = w\n",
        "            i = i + 1\n",
        "        words=sorted(words)\n",
        "        words.append('<unk>')\n",
        "        words_to_index['<unk>']=i\n",
        "        index_to_words[i] = '<unk>'\n",
        "        word_to_vec_map['<unk>']=UNK_value\n",
        "\n",
        "    return sorted(words),words_to_index, index_to_words, word_to_vec_map"
      ],
      "execution_count": 0,
      "outputs": []
    },
    {
      "cell_type": "code",
      "metadata": {
        "id": "GcEximL3txrc",
        "colab_type": "code",
        "colab": {}
      },
      "source": [
        "words_set,word_to_index, index_to_word, word_to_vec_map = read_glove_vecs(r'glove.6B.50d.txt')"
      ],
      "execution_count": 0,
      "outputs": []
    },
    {
      "cell_type": "code",
      "metadata": {
        "id": "j8NCLVn7qXSb",
        "colab_type": "code",
        "outputId": "c88cca78-d126-4a9b-94a5-0a116a7c8be9",
        "colab": {
          "base_uri": "https://localhost:8080/",
          "height": 34
        }
      },
      "source": [
        "if('<unk>' in words_set):\n",
        "  print('true')\n",
        "else:\n",
        "  print('false')"
      ],
      "execution_count": 0,
      "outputs": [
        {
          "output_type": "stream",
          "text": [
            "true\n"
          ],
          "name": "stdout"
        }
      ]
    },
    {
      "cell_type": "code",
      "metadata": {
        "id": "JuObognzvQWR",
        "colab_type": "code",
        "colab": {}
      },
      "source": [
        "def convert_to_one_hot(Y, C):\n",
        "    Y = np.eye(C)[Y.reshape(-1)]\n",
        "    return Y\n",
        "\n",
        "def softmax(x):\n",
        "    \"\"\"Compute softmax values for each sets of scores in x.\"\"\"\n",
        "    e_x = np.exp(x - np.max(x))\n",
        "    return e_x / e_x.sum()\n"
      ],
      "execution_count": 0,
      "outputs": []
    },
    {
      "cell_type": "code",
      "metadata": {
        "id": "dIvoxws4DIfJ",
        "colab_type": "code",
        "outputId": "8186edef-c8b6-42d1-86fd-5a76a22d9077",
        "colab": {
          "base_uri": "https://localhost:8080/",
          "height": 50
        }
      },
      "source": [
        "word = \"king\"\n",
        "idx = 289846\n",
        "print(\"the index of\", word, \"in the vocabulary is\", word_to_index[word])\n",
        "print(\"the\", str(idx) + \"th word in the vocabulary is\", index_to_word[idx])"
      ],
      "execution_count": 0,
      "outputs": [
        {
          "output_type": "stream",
          "text": [
            "the index of king in the vocabulary is 207802\n",
            "the 289846th word in the vocabulary is potatos\n"
          ],
          "name": "stdout"
        }
      ]
    },
    {
      "cell_type": "code",
      "metadata": {
        "id": "3AtR20mGBB_f",
        "colab_type": "code",
        "colab": {}
      },
      "source": [
        "#sentence to indices function so that each word can be embedded with embedding vector\n",
        "def sentence_to_indices(X,word_to_index,max_len,words_set):\n",
        "  m=X.shape[0]\n",
        "  X_indices=np.zeros(shape=(m,max_len))\n",
        "  for i in range(m):\n",
        "    sentence=X[i]\n",
        "    sentence=re.sub(r'@(?i)[a-zA-Z0-9_]+','',sentence)\n",
        "    sentence=re.sub('[^a-zA-z0-9\\s]','',sentence)\n",
        "    words=sentence.lower().strip().split()\n",
        "    \n",
        "    j=0\n",
        "    for w in words:\n",
        "      if(w in words_set):\n",
        "        X_indices[i,j]=word_to_index[w]\n",
        "        j=j+1\n",
        "      else:\n",
        "        X_indices[i,j]=word_to_index['<unk>']\n",
        "        j=j+1\n",
        "  return X_indices"
      ],
      "execution_count": 0,
      "outputs": []
    },
    {
      "cell_type": "code",
      "metadata": {
        "id": "ShVg8VOzHuK4",
        "colab_type": "code",
        "outputId": "fe56044a-52f1-4103-9491-878241ef486f",
        "colab": {
          "base_uri": "https://localhost:8080/",
          "height": 118
        }
      },
      "source": [
        "sen1=\"Ram Was excellent boy\"\n",
        "sen2=\"shyam was a bad boy\"\n",
        "sen=np.array((sen1,sen2))\n",
        "sen1=sentence_to_indices(sen,word_to_index,20,words_set)\n",
        "sen1"
      ],
      "execution_count": 0,
      "outputs": [
        {
          "output_type": "execute_result",
          "data": {
            "text/plain": [
              "array([[299863., 383514., 142331.,  82265.,      0.,      0.,      0.,\n",
              "             0.,      0.,      0.,      0.,      0.,      0.,      0.,\n",
              "             0.,      0.,      0.,      0.,      0.,      0.],\n",
              "       [330581., 383514.,  43010.,  65963.,  82265.,      0.,      0.,\n",
              "             0.,      0.,      0.,      0.,      0.,      0.,      0.,\n",
              "             0.,      0.,      0.,      0.,      0.,      0.]])"
            ]
          },
          "metadata": {
            "tags": []
          },
          "execution_count": 23
        }
      ]
    },
    {
      "cell_type": "code",
      "metadata": {
        "id": "KcWW-kSAI1zG",
        "colab_type": "code",
        "outputId": "156161be-8de8-4f41-de1d-9f17187491ff",
        "colab": {
          "base_uri": "https://localhost:8080/",
          "height": 84
        }
      },
      "source": [
        "X_train=np.array(Tweet)\n",
        "print(X_train[0])\n",
        "X_train=np.delete(X_train,0,0)\n",
        "print(X_train[0])\n",
        "Y_train=np.array(Score)\n",
        "print(Y_train[0])\n",
        "Y_train=np.delete(Y_train,0,0)\n",
        "Y_train.reshape(-1,1)\n",
        "print(Y_train[0])"
      ],
      "execution_count": 0,
      "outputs": [
        {
          "output_type": "stream",
          "text": [
            "Tweet\n",
            "@xandraaa5 @amayaallyn6 shut up hashtags are cool #offended\n",
            "Intensity Score\n",
            "0.562\n"
          ],
          "name": "stdout"
        }
      ]
    },
    {
      "cell_type": "code",
      "metadata": {
        "id": "OHdS8V31l3D3",
        "colab_type": "code",
        "colab": {}
      },
      "source": [
        "# EMBEDDING LAYER USING PRETRAINED VECTORS\n",
        "def pretrained_embedding_layer(word_to_vec_map, word_to_index):\n",
        "  vocab_len=len(word_to_index)+1\n",
        "  emb_dim=word_to_vec_map['he'].shape[0]\n",
        "  emb_matrix=np.zeros(shape=(vocab_len, emb_dim))\n",
        "  for word, idx in word_to_index.items():\n",
        "        emb_matrix[idx, :] = word_to_vec_map[word]\n",
        "  \n",
        "  embedding_layer = Embedding(vocab_len, emb_dim, trainable=False)\n",
        "  embedding_layer.build((None,))\n",
        "  embedding_layer.set_weights([emb_matrix])\n",
        "  return embedding_layer"
      ],
      "execution_count": 0,
      "outputs": []
    },
    {
      "cell_type": "code",
      "metadata": {
        "id": "TthoI6SQq8rX",
        "colab_type": "code",
        "outputId": "203d1493-2bbd-40bc-f2d6-0844326527b3",
        "colab": {
          "base_uri": "https://localhost:8080/",
          "height": 356
        }
      },
      "source": [
        "embedding_layer = pretrained_embedding_layer(word_to_vec_map, word_to_index)\n",
        "print(\"weights[0][1][3] =\", embedding_layer.get_weights()[0][1][3])"
      ],
      "execution_count": 0,
      "outputs": [
        {
          "output_type": "stream",
          "text": [
            "WARNING:tensorflow:From /usr/local/lib/python3.6/dist-packages/keras/backend/tensorflow_backend.py:66: The name tf.get_default_graph is deprecated. Please use tf.compat.v1.get_default_graph instead.\n",
            "\n",
            "WARNING:tensorflow:From /usr/local/lib/python3.6/dist-packages/keras/backend/tensorflow_backend.py:4432: The name tf.random_uniform is deprecated. Please use tf.random.uniform instead.\n",
            "\n",
            "WARNING:tensorflow:From /usr/local/lib/python3.6/dist-packages/keras/backend/tensorflow_backend.py:190: The name tf.get_default_session is deprecated. Please use tf.compat.v1.get_default_session instead.\n",
            "\n",
            "WARNING:tensorflow:From /usr/local/lib/python3.6/dist-packages/keras/backend/tensorflow_backend.py:197: The name tf.ConfigProto is deprecated. Please use tf.compat.v1.ConfigProto instead.\n",
            "\n",
            "WARNING:tensorflow:From /usr/local/lib/python3.6/dist-packages/keras/backend/tensorflow_backend.py:203: The name tf.Session is deprecated. Please use tf.compat.v1.Session instead.\n",
            "\n",
            "WARNING:tensorflow:From /usr/local/lib/python3.6/dist-packages/keras/backend/tensorflow_backend.py:207: The name tf.global_variables is deprecated. Please use tf.compat.v1.global_variables instead.\n",
            "\n",
            "WARNING:tensorflow:From /usr/local/lib/python3.6/dist-packages/keras/backend/tensorflow_backend.py:216: The name tf.is_variable_initialized is deprecated. Please use tf.compat.v1.is_variable_initialized instead.\n",
            "\n",
            "WARNING:tensorflow:From /usr/local/lib/python3.6/dist-packages/keras/backend/tensorflow_backend.py:223: The name tf.variables_initializer is deprecated. Please use tf.compat.v1.variables_initializer instead.\n",
            "\n",
            "WARNING:tensorflow:From /usr/local/lib/python3.6/dist-packages/keras/backend/tensorflow_backend.py:2725: The name tf.placeholder is deprecated. Please use tf.compat.v1.placeholder instead.\n",
            "\n",
            "weights[0][1][3] = -0.3403\n"
          ],
          "name": "stdout"
        }
      ]
    },
    {
      "cell_type": "code",
      "metadata": {
        "id": "WzFS947VsbBY",
        "colab_type": "code",
        "colab": {}
      },
      "source": [
        "#LSTM based classifier model\n",
        "def LSTM_model(input_shape, word_to_vec_map, word_to_index):\n",
        "  sentence_indices=Input(input_shape,dtype='int32')\n",
        "  embedding_layer=pretrained_embedding_layer(word_to_vec_map, word_to_index)\n",
        "  embeddings=embedding_layer(sentence_indices)\n",
        "  X = LSTM(64, return_sequences=True)(embeddings)\n",
        "  X = Dropout(0.5)(X)\n",
        "  X = LSTM(64, return_sequences=False)(X)\n",
        "  #X = Dropout(0.5)(X)\n",
        "  X = Dense(1)(X)\n",
        "  X = Activation('sigmoid')(X)\n",
        "  model = Model(inputs=sentence_indices, outputs=X)\n",
        "  return model"
      ],
      "execution_count": 0,
      "outputs": []
    },
    {
      "cell_type": "code",
      "metadata": {
        "id": "EZ2CD8vWAJ9a",
        "colab_type": "code",
        "outputId": "062a6d88-fafa-4f9e-b0bf-e4d4e700d13e",
        "colab": {
          "base_uri": "https://localhost:8080/",
          "height": 386
        }
      },
      "source": [
        "model = LSTM_model((45,), word_to_vec_map, word_to_index)\n",
        "model.summary()"
      ],
      "execution_count": 0,
      "outputs": [
        {
          "output_type": "stream",
          "text": [
            "Model: \"model_3\"\n",
            "_________________________________________________________________\n",
            "Layer (type)                 Output Shape              Param #   \n",
            "=================================================================\n",
            "input_3 (InputLayer)         (None, 45)                0         \n",
            "_________________________________________________________________\n",
            "embedding_4 (Embedding)      (None, 45, 50)            20000100  \n",
            "_________________________________________________________________\n",
            "lstm_5 (LSTM)                (None, 45, 64)            29440     \n",
            "_________________________________________________________________\n",
            "dropout_3 (Dropout)          (None, 45, 64)            0         \n",
            "_________________________________________________________________\n",
            "lstm_6 (LSTM)                (None, 64)                33024     \n",
            "_________________________________________________________________\n",
            "dense_1 (Dense)              (None, 1)                 65        \n",
            "_________________________________________________________________\n",
            "activation_3 (Activation)    (None, 1)                 0         \n",
            "=================================================================\n",
            "Total params: 20,062,629\n",
            "Trainable params: 62,529\n",
            "Non-trainable params: 20,000,100\n",
            "_________________________________________________________________\n"
          ],
          "name": "stdout"
        }
      ]
    },
    {
      "cell_type": "code",
      "metadata": {
        "id": "BQY3zmvWCKpP",
        "colab_type": "code",
        "colab": {}
      },
      "source": [
        "adam=optimizers.adam(lr=0.001)\n",
        "model.compile(loss='mse', optimizer=adam, metrics=['mse'])"
      ],
      "execution_count": 0,
      "outputs": []
    },
    {
      "cell_type": "code",
      "metadata": {
        "id": "2QGoqaw9EaXQ",
        "colab_type": "code",
        "outputId": "b885ab02-4c54-4c6c-c51d-8b7e994bc60e",
        "colab": {
          "base_uri": "https://localhost:8080/",
          "height": 279
        }
      },
      "source": [
        "X_train_indices=sentence_to_indices(X_train,word_to_index,45,words_set)"
      ],
      "execution_count": 0,
      "outputs": [
        {
          "output_type": "error",
          "ename": "KeyboardInterrupt",
          "evalue": "ignored",
          "traceback": [
            "\u001b[0;31m---------------------------------------------------------------------------\u001b[0m",
            "\u001b[0;31mKeyboardInterrupt\u001b[0m                         Traceback (most recent call last)",
            "\u001b[0;32m<ipython-input-57-b62f8e64c210>\u001b[0m in \u001b[0;36m<module>\u001b[0;34m()\u001b[0m\n\u001b[0;32m----> 1\u001b[0;31m \u001b[0mX_train_indices\u001b[0m\u001b[0;34m=\u001b[0m\u001b[0msentence_to_indices\u001b[0m\u001b[0;34m(\u001b[0m\u001b[0mX_train\u001b[0m\u001b[0;34m,\u001b[0m\u001b[0mword_to_index\u001b[0m\u001b[0;34m,\u001b[0m\u001b[0;36m45\u001b[0m\u001b[0;34m,\u001b[0m\u001b[0mwords_set\u001b[0m\u001b[0;34m)\u001b[0m\u001b[0;34m\u001b[0m\u001b[0;34m\u001b[0m\u001b[0m\n\u001b[0m",
            "\u001b[0;32m<ipython-input-22-3709a9ab553b>\u001b[0m in \u001b[0;36msentence_to_indices\u001b[0;34m(X, word_to_index, max_len, words_set)\u001b[0m\n\u001b[1;32m     10\u001b[0m     \u001b[0mj\u001b[0m\u001b[0;34m=\u001b[0m\u001b[0;36m0\u001b[0m\u001b[0;34m\u001b[0m\u001b[0;34m\u001b[0m\u001b[0m\n\u001b[1;32m     11\u001b[0m     \u001b[0;32mfor\u001b[0m \u001b[0mw\u001b[0m \u001b[0;32min\u001b[0m \u001b[0mwords\u001b[0m\u001b[0;34m:\u001b[0m\u001b[0;34m\u001b[0m\u001b[0;34m\u001b[0m\u001b[0m\n\u001b[0;32m---> 12\u001b[0;31m       \u001b[0;32mif\u001b[0m\u001b[0;34m(\u001b[0m\u001b[0mw\u001b[0m \u001b[0;32min\u001b[0m \u001b[0mwords_set\u001b[0m\u001b[0;34m)\u001b[0m\u001b[0;34m:\u001b[0m\u001b[0;34m\u001b[0m\u001b[0;34m\u001b[0m\u001b[0m\n\u001b[0m\u001b[1;32m     13\u001b[0m         \u001b[0mX_indices\u001b[0m\u001b[0;34m[\u001b[0m\u001b[0mi\u001b[0m\u001b[0;34m,\u001b[0m\u001b[0mj\u001b[0m\u001b[0;34m]\u001b[0m\u001b[0;34m=\u001b[0m\u001b[0mword_to_index\u001b[0m\u001b[0;34m[\u001b[0m\u001b[0mw\u001b[0m\u001b[0;34m]\u001b[0m\u001b[0;34m\u001b[0m\u001b[0;34m\u001b[0m\u001b[0m\n\u001b[1;32m     14\u001b[0m         \u001b[0mj\u001b[0m\u001b[0;34m=\u001b[0m\u001b[0mj\u001b[0m\u001b[0;34m+\u001b[0m\u001b[0;36m1\u001b[0m\u001b[0;34m\u001b[0m\u001b[0;34m\u001b[0m\u001b[0m\n",
            "\u001b[0;31mKeyboardInterrupt\u001b[0m: "
          ]
        }
      ]
    },
    {
      "cell_type": "code",
      "metadata": {
        "id": "7sHNri4Cas3f",
        "colab_type": "code",
        "outputId": "b01e3bd7-8e88-410a-a61a-f5246ae5ae10",
        "colab": {
          "base_uri": "https://localhost:8080/",
          "height": 1000
        }
      },
      "source": [
        "model.fit(X_train_indices, Y_train, epochs = 30, batch_size = 32, shuffle=False)"
      ],
      "execution_count": 0,
      "outputs": [
        {
          "output_type": "stream",
          "text": [
            "Epoch 1/30\n",
            "1701/1701 [==============================] - 4s 2ms/step - loss: 0.0010 - mean_squared_error: 0.0010\n",
            "Epoch 2/30\n",
            "1701/1701 [==============================] - 4s 2ms/step - loss: 9.5447e-04 - mean_squared_error: 9.5447e-04\n",
            "Epoch 3/30\n",
            "1701/1701 [==============================] - 4s 2ms/step - loss: 9.3658e-04 - mean_squared_error: 9.3658e-04\n",
            "Epoch 4/30\n",
            "1701/1701 [==============================] - 4s 2ms/step - loss: 9.8135e-04 - mean_squared_error: 9.8135e-04\n",
            "Epoch 5/30\n",
            "1701/1701 [==============================] - 4s 2ms/step - loss: 0.0011 - mean_squared_error: 0.0011\n",
            "Epoch 6/30\n",
            "1701/1701 [==============================] - 4s 2ms/step - loss: 0.0012 - mean_squared_error: 0.0012\n",
            "Epoch 7/30\n",
            "1701/1701 [==============================] - 4s 2ms/step - loss: 0.0010 - mean_squared_error: 0.0010\n",
            "Epoch 8/30\n",
            "1701/1701 [==============================] - 4s 2ms/step - loss: 0.0011 - mean_squared_error: 0.0011\n",
            "Epoch 9/30\n",
            "1701/1701 [==============================] - 4s 2ms/step - loss: 0.0011 - mean_squared_error: 0.0011\n",
            "Epoch 10/30\n",
            "1701/1701 [==============================] - 4s 2ms/step - loss: 8.7924e-04 - mean_squared_error: 8.7924e-04\n",
            "Epoch 11/30\n",
            "1701/1701 [==============================] - 4s 2ms/step - loss: 8.0737e-04 - mean_squared_error: 8.0737e-04\n",
            "Epoch 12/30\n",
            "1701/1701 [==============================] - 4s 2ms/step - loss: 7.8313e-04 - mean_squared_error: 7.8313e-04\n",
            "Epoch 13/30\n",
            "1701/1701 [==============================] - 4s 3ms/step - loss: 8.0662e-04 - mean_squared_error: 8.0662e-04\n",
            "Epoch 14/30\n",
            "1701/1701 [==============================] - 4s 2ms/step - loss: 8.4420e-04 - mean_squared_error: 8.4420e-04\n",
            "Epoch 15/30\n",
            "1701/1701 [==============================] - 4s 3ms/step - loss: 7.8628e-04 - mean_squared_error: 7.8628e-04\n",
            "Epoch 16/30\n",
            "1701/1701 [==============================] - 4s 2ms/step - loss: 8.6323e-04 - mean_squared_error: 8.6323e-04\n",
            "Epoch 17/30\n",
            "1701/1701 [==============================] - 4s 2ms/step - loss: 9.8440e-04 - mean_squared_error: 9.8440e-04\n",
            "Epoch 18/30\n",
            "1701/1701 [==============================] - 4s 3ms/step - loss: 0.0011 - mean_squared_error: 0.0011\n",
            "Epoch 19/30\n",
            "1701/1701 [==============================] - 4s 2ms/step - loss: 0.0014 - mean_squared_error: 0.0014\n",
            "Epoch 20/30\n",
            "1701/1701 [==============================] - 4s 2ms/step - loss: 0.0016 - mean_squared_error: 0.0016\n",
            "Epoch 21/30\n",
            "1701/1701 [==============================] - 4s 2ms/step - loss: 0.0021 - mean_squared_error: 0.0021\n",
            "Epoch 22/30\n",
            "1701/1701 [==============================] - 4s 2ms/step - loss: 0.0023 - mean_squared_error: 0.0023\n",
            "Epoch 23/30\n",
            "1701/1701 [==============================] - 4s 2ms/step - loss: 0.0021 - mean_squared_error: 0.0021\n",
            "Epoch 24/30\n",
            "1701/1701 [==============================] - 4s 2ms/step - loss: 0.0015 - mean_squared_error: 0.0015\n",
            "Epoch 25/30\n",
            "1701/1701 [==============================] - 4s 2ms/step - loss: 9.1414e-04 - mean_squared_error: 9.1414e-04\n",
            "Epoch 26/30\n",
            "1701/1701 [==============================] - 4s 2ms/step - loss: 7.1058e-04 - mean_squared_error: 7.1058e-04\n",
            "Epoch 27/30\n",
            "1701/1701 [==============================] - 4s 2ms/step - loss: 5.7942e-04 - mean_squared_error: 5.7942e-04\n",
            "Epoch 28/30\n",
            "1701/1701 [==============================] - 4s 2ms/step - loss: 4.8324e-04 - mean_squared_error: 4.8324e-04\n",
            "Epoch 29/30\n",
            "1701/1701 [==============================] - 4s 3ms/step - loss: 4.5605e-04 - mean_squared_error: 4.5605e-04\n",
            "Epoch 30/30\n",
            "1701/1701 [==============================] - 4s 2ms/step - loss: 4.3939e-04 - mean_squared_error: 4.3939e-04\n"
          ],
          "name": "stdout"
        },
        {
          "output_type": "execute_result",
          "data": {
            "text/plain": [
              "<keras.callbacks.History at 0x7fd306b1d128>"
            ]
          },
          "metadata": {
            "tags": []
          },
          "execution_count": 79
        }
      ]
    },
    {
      "cell_type": "code",
      "metadata": {
        "id": "maSJKb_zbcej",
        "colab_type": "code",
        "outputId": "a990b31f-2e43-422d-a158-ca2aca86f0ac",
        "colab": {
          "base_uri": "https://localhost:8080/",
          "height": 34
        }
      },
      "source": [
        "Tweet[5]"
      ],
      "execution_count": 0,
      "outputs": [
        {
          "output_type": "execute_result",
          "data": {
            "text/plain": [
              "'@Kristiann1125 lol wow i was gonna say really?! haha have you seen chris or nah? you dont even snap me anymore dude!'"
            ]
          },
          "metadata": {
            "tags": []
          },
          "execution_count": 59
        }
      ]
    },
    {
      "cell_type": "code",
      "metadata": {
        "id": "yxVW04ttiACz",
        "colab_type": "code",
        "colab": {}
      },
      "source": [
        "a=np.array((Tweet[10],Tweet[11]))"
      ],
      "execution_count": 0,
      "outputs": []
    },
    {
      "cell_type": "code",
      "metadata": {
        "id": "jxSHw9eKiJoM",
        "colab_type": "code",
        "colab": {}
      },
      "source": [
        "a1=sentence_to_indices(a,word_to_index,45,words_set)"
      ],
      "execution_count": 0,
      "outputs": []
    },
    {
      "cell_type": "code",
      "metadata": {
        "id": "TidyRb5eiDhz",
        "colab_type": "code",
        "outputId": "5d82b972-9c06-432a-9b4f-a7b84a206173",
        "colab": {
          "base_uri": "https://localhost:8080/",
          "height": 50
        }
      },
      "source": [
        "model.predict(a1)"
      ],
      "execution_count": 0,
      "outputs": [
        {
          "output_type": "execute_result",
          "data": {
            "text/plain": [
              "array([[0.13794178],\n",
              "       [0.22454025]], dtype=float32)"
            ]
          },
          "metadata": {
            "tags": []
          },
          "execution_count": 82
        }
      ]
    },
    {
      "cell_type": "code",
      "metadata": {
        "id": "aSEGbaG_ipu5",
        "colab_type": "code",
        "outputId": "0a38d66a-9f7e-4627-e18b-fe8da6ffe240",
        "colab": {
          "base_uri": "https://localhost:8080/",
          "height": 50
        }
      },
      "source": [
        "print(Score[10])\n",
        "print(Score[11])"
      ],
      "execution_count": 0,
      "outputs": [
        {
          "output_type": "stream",
          "text": [
            "0.125\n",
            "0.231\n"
          ],
          "name": "stdout"
        }
      ]
    },
    {
      "cell_type": "code",
      "metadata": {
        "id": "q4hgQ3aCitkc",
        "colab_type": "code",
        "colab": {}
      },
      "source": [
        "file2=open(r\"/content/gdrive/My Drive/Colab Notebooks/CodaLab/working_directory/2018-EI-reg-En-anger-dev.txt\")\n",
        "Tweet1 = []\n",
        "Score1 = []\n",
        "lines=file2.read()\n",
        "for line in lines.split('\\n'):\n",
        "  item=line.split('\\t')\n",
        "  if(len(item)<4):\n",
        "      continue\n",
        "  Tweet1.append(item[1])\n",
        "  Score1.append(item[3])\n",
        "  file2.close()"
      ],
      "execution_count": 0,
      "outputs": []
    },
    {
      "cell_type": "code",
      "metadata": {
        "id": "9AWeRBxpuNsi",
        "colab_type": "code",
        "outputId": "6023d3ae-62eb-4f55-ee87-2c3c96981a80",
        "colab": {
          "base_uri": "https://localhost:8080/",
          "height": 84
        }
      },
      "source": [
        "X_dev=np.array(Tweet1)\n",
        "print(X_dev[0])\n",
        "X_dev=np.delete(X_dev,0,0)\n",
        "print(X_dev[0])\n",
        "Y_dev=np.array(Score1)\n",
        "print(Y_dev[0])\n",
        "Y_dev=np.delete(Y_dev,0,0)\n",
        "Y_dev.reshape(-1,1)\n",
        "print(Y_dev[0])"
      ],
      "execution_count": 0,
      "outputs": [
        {
          "output_type": "stream",
          "text": [
            "Tweet\n",
            "'we need to do something. something must be done!!!!!'\\n\\nyour anxiety is amusing. nothing will be done. despair.\n",
            "Intensity Score\n",
            "0.517\n"
          ],
          "name": "stdout"
        }
      ]
    },
    {
      "cell_type": "code",
      "metadata": {
        "id": "IhMTJX87umym",
        "colab_type": "code",
        "outputId": "2cc92989-b252-4c9f-b27a-565951dd661c",
        "colab": {
          "base_uri": "https://localhost:8080/",
          "height": 487
        }
      },
      "source": [
        "X_dev_indices=sentence_to_indices(X_dev,word_to_index,45,words_set)\n",
        "X_dev_indices[1:5]"
      ],
      "execution_count": 0,
      "outputs": [
        {
          "output_type": "execute_result",
          "data": {
            "text/plain": [
              "array([[384630.,  71090., 155179., 186645., 357266., 178700., 272881.,\n",
              "         40701., 251014., 151349.,  43010., 305014., 155017.,  65680.,\n",
              "             0.,      0.,      0.,      0.,      0.,      0.,      0.,\n",
              "             0.,      0.,      0.,      0.,      0.,      0.,      0.,\n",
              "             0.,      0.,      0.,      0.,      0.,      0.,      0.,\n",
              "             0.,      0.,      0.,      0.,      0.,      0.,      0.,\n",
              "             0.,      0.,      0.],\n",
              "       [ 89686., 170714.,  43010., 261192.,  44608., 397971., 185457.,\n",
              "        170714.,  43010., 129149.,  44608., 153510.,      0.,      0.,\n",
              "             0.,      0.,      0.,      0.,      0.,      0.,      0.,\n",
              "             0.,      0.,      0.,      0.,      0.,      0.,      0.,\n",
              "             0.,      0.,      0.,      0.,      0.,      0.,      0.,\n",
              "             0.,      0.,      0.,      0.,      0.,      0.,      0.,\n",
              "             0.,      0.,      0.],\n",
              "       [103493., 302352., 258481., 360915., 160418., 272930., 268046.,\n",
              "        357266., 293473.,  87651.,  23310., 323108., 269798., 374289.,\n",
              "        144566., 336885., 363539., 308561.,  65680.,  62065., 339331.,\n",
              "        174404., 289996.,      0.,      0.,      0.,      0.,      0.,\n",
              "             0.,      0.,      0.,      0.,      0.,      0.,      0.,\n",
              "             0.,      0.,      0.,      0.,      0.,      0.,      0.,\n",
              "             0.,      0.,      0.],\n",
              "       [400001., 400001., 326276., 181844.,  61521.,  70978., 257379.,\n",
              "        295749., 207294., 265425., 270201., 161859., 181844., 335685.,\n",
              "        400001.,      0.,      0.,      0.,      0.,      0.,      0.,\n",
              "             0.,      0.,      0.,      0.,      0.,      0.,      0.,\n",
              "             0.,      0.,      0.,      0.,      0.,      0.,      0.,\n",
              "             0.,      0.,      0.,      0.,      0.,      0.,      0.,\n",
              "             0.,      0.,      0.]])"
            ]
          },
          "metadata": {
            "tags": []
          },
          "execution_count": 171
        }
      ]
    },
    {
      "cell_type": "code",
      "metadata": {
        "id": "e38tVygvx0bh",
        "colab_type": "code",
        "colab": {}
      },
      "source": [
        "X_dev_pred=model.predict(X_dev_indices)"
      ],
      "execution_count": 0,
      "outputs": []
    },
    {
      "cell_type": "code",
      "metadata": {
        "id": "iNWApbJwy2BE",
        "colab_type": "code",
        "colab": {}
      },
      "source": [
        "X_dev_pred=X_dev_pred.reshape(-1,1)\n",
        "Y_dev=Y_dev.reshape(-1,1)"
      ],
      "execution_count": 0,
      "outputs": []
    },
    {
      "cell_type": "code",
      "metadata": {
        "id": "vlvoMEI85Yf5",
        "colab_type": "code",
        "colab": {}
      },
      "source": [
        "result=np.array((Y_dev,X_dev_pred))"
      ],
      "execution_count": 0,
      "outputs": []
    },
    {
      "cell_type": "code",
      "metadata": {
        "id": "UBYLMk_95pVK",
        "colab_type": "code",
        "colab": {}
      },
      "source": [
        "result=result.reshape(-1,2)"
      ],
      "execution_count": 0,
      "outputs": []
    },
    {
      "cell_type": "code",
      "metadata": {
        "id": "9Bej9NfB5rO5",
        "colab_type": "code",
        "outputId": "196a307b-685b-4ec3-d863-45482c8ea1ab",
        "colab": {
          "base_uri": "https://localhost:8080/",
          "height": 84
        }
      },
      "source": [
        "X_dev_pred[1:5]"
      ],
      "execution_count": 0,
      "outputs": [
        {
          "output_type": "execute_result",
          "data": {
            "text/plain": [
              "array([[0.57835877],\n",
              "       [0.59811497],\n",
              "       [0.77330077],\n",
              "       [0.57955915]], dtype=float32)"
            ]
          },
          "metadata": {
            "tags": []
          },
          "execution_count": 147
        }
      ]
    },
    {
      "cell_type": "code",
      "metadata": {
        "id": "OjKUwEAj7dtI",
        "colab_type": "code",
        "outputId": "5ea0b8e7-e0fc-4d80-c89a-21037667f6bf",
        "colab": {
          "base_uri": "https://localhost:8080/",
          "height": 84
        }
      },
      "source": [
        "Y_dev[1:5]"
      ],
      "execution_count": 0,
      "outputs": [
        {
          "output_type": "execute_result",
          "data": {
            "text/plain": [
              "array([['0.726'],\n",
              "       ['0.250'],\n",
              "       ['0.641'],\n",
              "       ['0.313']], dtype='<U15')"
            ]
          },
          "metadata": {
            "tags": []
          },
          "execution_count": 148
        }
      ]
    },
    {
      "cell_type": "code",
      "metadata": {
        "id": "tmrelfzE7hHb",
        "colab_type": "code",
        "outputId": "f660bb1b-db4b-4d01-8f0e-3dccb22b1aa2",
        "colab": {
          "base_uri": "https://localhost:8080/",
          "height": 34
        }
      },
      "source": [
        "Tweet1[1]"
      ],
      "execution_count": 0,
      "outputs": [
        {
          "output_type": "execute_result",
          "data": {
            "text/plain": [
              "\"'we need to do something. something must be done!!!!!'\\\\n\\\\nyour anxiety is amusing. nothing will be done. despair.\""
            ]
          },
          "metadata": {
            "tags": []
          },
          "execution_count": 150
        }
      ]
    },
    {
      "cell_type": "code",
      "metadata": {
        "id": "9bHrE4PbQI9a",
        "colab_type": "code",
        "outputId": "90306bf1-6cf5-426f-93c9-aa5d69687cce",
        "colab": {
          "base_uri": "https://localhost:8080/",
          "height": 34
        }
      },
      "source": [
        "Score1[1]"
      ],
      "execution_count": 0,
      "outputs": [
        {
          "output_type": "execute_result",
          "data": {
            "text/plain": [
              "'0.517'"
            ]
          },
          "metadata": {
            "tags": []
          },
          "execution_count": 151
        }
      ]
    },
    {
      "cell_type": "code",
      "metadata": {
        "id": "FJVEiTGJQUbX",
        "colab_type": "code",
        "colab": {}
      },
      "source": [
        "a=np.array((Tweet1[1],Tweet1[2]))\n",
        "a1=sentence_to_indices(a,word_to_index,45,words_set)"
      ],
      "execution_count": 0,
      "outputs": []
    },
    {
      "cell_type": "code",
      "metadata": {
        "id": "gldLv47_QfnB",
        "colab_type": "code",
        "outputId": "f763e472-881a-48fc-c588-6573da146cb2",
        "colab": {
          "base_uri": "https://localhost:8080/",
          "height": 252
        }
      },
      "source": [
        "a1"
      ],
      "execution_count": 0,
      "outputs": [
        {
          "output_type": "execute_result",
          "data": {
            "text/plain": [
              "array([[384374., 258451., 360915., 126552., 337302., 337302., 253767.,\n",
              "         71090., 400001.,  57164., 192973.,  54224., 264612., 387696.,\n",
              "         71090., 127491., 121937.,      0.,      0.,      0.,      0.,\n",
              "             0.,      0.,      0.,      0.,      0.,      0.,      0.,\n",
              "             0.,      0.,      0.,      0.,      0.,      0.,      0.,\n",
              "             0.,      0.,      0.,      0.,      0.,      0.,      0.,\n",
              "             0.,      0.,      0.],\n",
              "       [384630.,  71090., 155179., 186645., 357266., 178700., 272881.,\n",
              "         40701., 251014., 151349.,  43010., 305014., 155017.,  65680.,\n",
              "             0.,      0.,      0.,      0.,      0.,      0.,      0.,\n",
              "             0.,      0.,      0.,      0.,      0.,      0.,      0.,\n",
              "             0.,      0.,      0.,      0.,      0.,      0.,      0.,\n",
              "             0.,      0.,      0.,      0.,      0.,      0.,      0.,\n",
              "             0.,      0.,      0.]])"
            ]
          },
          "metadata": {
            "tags": []
          },
          "execution_count": 87
        }
      ]
    },
    {
      "cell_type": "code",
      "metadata": {
        "id": "jJ1o-nHk4cH3",
        "colab_type": "code",
        "outputId": "3c11cc4e-8f13-4542-e8b1-de78be7e8943",
        "colab": {
          "base_uri": "https://localhost:8080/",
          "height": 50
        }
      },
      "source": [
        "model.predict(a1)"
      ],
      "execution_count": 0,
      "outputs": [
        {
          "output_type": "execute_result",
          "data": {
            "text/plain": [
              "array([[0.44257084],\n",
              "       [0.61536044]], dtype=float32)"
            ]
          },
          "metadata": {
            "tags": []
          },
          "execution_count": 88
        }
      ]
    },
    {
      "cell_type": "code",
      "metadata": {
        "id": "DEUBPIcx-HHG",
        "colab_type": "code",
        "outputId": "784de2c5-788c-46fa-b0e0-a9e784dcffbe",
        "colab": {
          "base_uri": "https://localhost:8080/",
          "height": 54
        }
      },
      "source": [
        "file2=open(r\"/content/gdrive/My Drive/Colab Notebooks/CodaLab/working_directory/2018-EI-reg-En-anger-dev.txt\")\n",
        "file2.read()"
      ],
      "execution_count": 0,
      "outputs": [
        {
          "output_type": "execute_result",
          "data": {
            "text/plain": [
              "\"ID\\tTweet\\tAffect Dimension\\tIntensity Score\\n2018-En-01052\\t'we need to do something. something must be done!!!!!'\\\\n\\\\nyour anxiety is amusing. nothing will be done. despair.\\tanger\\t0.517\\n2018-En-03440\\t@Chan_lfc10 @paul_rule @Nuttall1878 @DeadlineDayLive @Everton We'd be fuming if the hijacked our £8m move for a relegated full back 😡\\tanger\\t0.726\\n2018-En-01489\\tCaleb had a nightmare about zombies. I had a dream about freedom.......\\tanger\\t0.250\\n2018-En-00490\\t#CNN really needs to get out of the #Propaganda Business.. 30 seconds on USN fallen Soldiers tragedy. Right back at spewing #hatred #POTUS\\tanger\\t0.641\\n2018-En-02178\\t#dmme #kikme  #sext #horny  #ass #bbw  #naughty  #pussy #kik   #nudes  only  girls  😩 horny  #snap    jacobgigs\\tanger\\t0.313\\n2018-En-02533\\tDon't fucking tag me in pictures as 'family first' when you cut me out 5 years ago. You're no one to me. \\tanger\\t0.953\\n2018-En-03360\\tCoulda sworn it was Interview With A Vampire. Hmmm......Mandela Effect anyone? \\\\n#interviewwithavampire #annerice #books #horror #ilovevamps\\tanger\\t0.422\\n2018-En-01552\\tsick of this shit. #mad #angry. Rowan Atkinson Is Not Dead. Just A Bloody Online Hoax😡😡😡😡\\U0001f92c\\U0001f92c\\U0001f92c\\U0001f92c\\tanger\\t0.938\\n2018-En-01940\\t@lucybeecoconut A make up remover and insect sting relief!\\tanger\\t0.273\\n2018-En-01654\\tI despair at the mouth foaming hostility &amp; dishonesty of those in the Leave camp, &amp; we should expose that.\\tanger\\t0.734\\n2018-En-00681\\t@FangornForest1 @Brexit whose customers love it. Imagine being a hack these days, having to sing the tune the paymaster calls. #dismal\\tanger\\t0.531\\n2018-En-02603\\t@F1 Why announcing so late, it will be hard to make it from Manchester and organising a day off. #sad\\tanger\\t0.591\\n2018-En-04151\\tMother Nature dropping mad beats out there this morning. Just wish they wouldn't shake my shower stall while I'm standing there naked.\\tanger\\t0.356\\n2018-En-04326\\t#DamilolaOurLovedBoy So upsetting 😢😢. Why do people want to hurt others! Such a cruel world we live in #heartbreaking\\tanger\\t0.672\\n2018-En-00813\\tSorry if I annoy any of you. I'm just real passionate about Ruby and always want to give her the love she deserves 😭\\tanger\\t0.406\\n2018-En-00780\\tJesus drank the cup of wrath you deserve dry, so that you might drink deeply of His cup of salvation that eternally satisfies (Hab 2:15).\\tanger\\t0.182\\n2018-En-01209\\tI spotted the fed and all I got was #Ejaculating live bees and the bees are #angry.\\tanger\\t0.750\\n2018-En-02278\\tWorst dreams. 😥\\tanger\\t0.530\\n2018-En-03723\\t@MarkRDuckett it did, i saw the tweet, it had a crack at u, about a greens tweet. it holds a grudge dude. so pathetic.\\tanger\\t0.688\\n2018-En-00575\\t#WalkingSideBySide: Great marriages built on #forgiveness &amp;truthfulness; bad marriages on #resentment, bitterness, #deceit &amp;unfaithfulness.\\tanger\\t0.397\\n2018-En-03619\\t@Bravotv is there a way to watch NYC Million Dollar Listing &amp; filter @FredrikEklundNY OUT of the episodes? #primadonna #duckface #tantrum\\tanger\\t0.406\\n2018-En-02376\\tThis time last year I was pissed at the top of the Eiffel Tower. Today I was down a manhole in the rain. Happy Anniversary @Jordannea11 😘♥️\\tanger\\t0.297\\n2018-En-02322\\tHead hurting 😤\\tanger\\t0.609\\n2018-En-01023\\t@JustHerrick @iPhone_News Piece of #crap\\tanger\\t0.603\\n2018-En-03859\\tSo disappointed in myself for spending £50 on an outfit for meeting a boy #noselfcontrol #nervous\\tanger\\t0.682\\n2018-En-02381\\tDid men call themselves shy and mean it? So I reassure him that I'm just making sure he's a good investment and alla that 🙄\\tanger\\t0.379\\n2018-En-02685\\tKid at camp said my inner thigh looked like a slinky👌🤣 buddy those are stretch marks!!!!  #SummerCamp #offended\\tanger\\t0.563\\n2018-En-04350\\tAlaina and I are at 90 days on our snap streak. So?\\tanger\\t0.375\\n2018-En-01657\\tSaw my first Larsen trap today with stressed magpie. I NEVER EVER want to see that again  #angry #distressed #wildlife\\tanger\\t0.844\\n2018-En-01152\\t@Argos_Online customer service is dreadful, phone bill is huge and get passed from person 2 person and keep taking money off my card #idiots\\tanger\\t0.813\\n2018-En-04125\\tLost my appetite for the past 5 days and I swear I already lost 3 pounds #depressing #at #least #i #will #be #skinny #for #pride #weekend\\tanger\\t0.531\\n2018-En-02516\\tGreat...So I got up at 5am only to discover that my Amazon Prime Day deal was $30 more than the regular price. 😡\\tanger\\t0.806\\n2018-En-02314\\tWhat's worse than feeling discouraged? Not finding an emoji for feeling discouraged\\tanger\\t0.547\\n2018-En-03180\\t@GirlPosts @_matdtaylor actually how annoyed you get 😂\\tanger\\t0.597\\n2018-En-04198\\t@Zineeta_R @RusEmbUSA @mfa_russia The hatred and fear many russians have for anything non-russian is just sad.\\tanger\\t0.672\\n2018-En-00477\\t@BBCBreaking I have some mistrust of the medical profession.  The cover up was more important than the patients.\\tanger\\t0.547\\n2018-En-02949\\tI've got builders in my office and I have a game to make. Perhaps ill start sketching the next game... #gamedev #indiedev \\tanger\\t0.288\\n2018-En-01187\\tWow what's up with #snap 😲📊📉⬇#cnnmoney\\tanger\\t0.333\\n2018-En-01798\\tBrighten up a gloomy day with a @SiennaXOfficial spray tan, we have a tan to suit everybody! #spraytan #tan #summer #godalming #hurtmore\\tanger\\t0.109\\n2018-En-03249\\tIsrael's recent overtures towards West Africa seems to be attracting some elements of suspicion...an unnecessary suspicion though.\\tanger\\t0.438\\n2018-En-03238\\t@hollloman @nessa_babbby @ajvannozzi97 As half a set of twins I resent that!\\tanger\\t0.609\\n2018-En-02366\\tI feel exhausted ...\\\\nI tried to do a good job, but apparently God does not see me right. I'm weary! I EXIST! 😟💔📢\\\\n#exist #weary #misonorotta\\tanger\\t0.613\\n2018-En-02651\\tWhy have #Emmerdale had to rob #robron of having their first child together for that vile woman/cheating sl smh #bitter\\tanger\\t0.703\\n2018-En-01435\\t@o_pebbles Not of this one sadly! 😪\\tanger\\t0.563\\n2018-En-01124\\tHow come quiet well behaved cats and dogs have to ride on a plane in a tiny bag while screaming small humans roam free? #outrage #teampet\\tanger\\t0.656\\n2018-En-00159\\tHey @NHSEngland imagine being blue lighted to hospital unable to breathe only to be dumped in a cubicle and not seen for 4 hours #horrendous\\tanger\\t0.766\\n2018-En-04111\\tIt's a beautiful pout. c:\\tanger\\t0.076\\n2018-En-03058\\t@ThomasEWoods I would like to hear a podcast of you going off refuting her entire article. Extra indignation please.\\tanger\\t0.500\\n2018-En-03920\\t-c- and disarmed of her equipment on suspicion of being a potential accomplice to Annie Leonhart.\\tanger\\t0.516\\n2018-En-03853\\t[ @TheChicMystique ] — hurting badly and that he can't just leave him like that. Angry and heartless. ]\\\\n\\\\nI promise you that I'll be back, —\\tanger\\t0.719\\n2018-En-01719\\t@michaelsloan87 @SkyFootball The disappointment when it's actually a new club sponsor! 😂\\tanger\\t0.422\\n2018-En-02934\\tAre u #depressed #hypo #manic #lonely #bored #nofriends #needfreinds #friend I feel chatty I wanna help ppl or just #makefriend 's #dm #moms\\tanger\\t0.424\\n2018-En-03611\\tShit getting me irritated 😠\\tanger\\t0.844\\n2018-En-01944\\t@_elliegillxx @0liviarobertson Poor Lyn 😂😂😂 livv I hope she forgets yours this year in revenge\\tanger\\t0.453\\n2018-En-00599\\tI literally love Paul so much #BB19 #pissed 😂\\tanger\\t0.313\\n2018-En-03760\\t@amjadhussain73 @MehreenFaruqi Don't waste your time on that Muslim crap. Ups you are Arab too. 😂 😂 😂 Greatings fro Pauline Hanson. 😂 😂 😂\\tanger\\t0.455\\n2018-En-00318\\tcalling me ugly isn't even an insult bc i know already\\tanger\\t0.547\\n2018-En-02298\\tWhat do I do with my heart that is trembling by just the thought of it?\\\\nI really don’t know what love is\\tanger\\t0.377\\n2018-En-01603\\tRussia story will infuriate Trump today. Media otherwise would be giving him tongue bath for fall of ISIS in Mosul + al-Baghdadi death.\\tanger\\t0.484\\n2018-En-03243\\tThere's still sadness and hatred pero i do feel better than yesterday.\\tanger\\t0.625\\n2018-En-01634\\tOutside has basically become a horror movie where gypsy moths take over the world by flitting aggressively about.\\\\n\\\\n#creaturedoublefeature\\tanger\\t0.594\\n2018-En-02677\\t@JackRuff4 They have this horrible pudding here. Butterscotch pudding on Mondays, it's dreadful. #Fringe\\tanger\\t0.578\\n2018-En-02079\\t@Delta.  Are you kidding?  Delayed from 7:30pm to 11:00 - only to cancel it because the pilot is overtime. \\tanger\\t0.844\\n2018-En-03398\\tPaul Ehrlich said that humanity is a threat to all life. Such great news to start the day. If I could blush I would.\\tanger\\t0.323\\n2018-En-01375\\t@eben4u #stayed on you...makes you appreciate love worshiping....All i want to do is worship you!!\\tanger\\t0.125\\n2018-En-00980\\tI feel intimidated\\tanger\\t0.391\\n2018-En-03131\\t@jaassiieeeee I will not fall to the dark side😂😂\\tanger\\t0.210\\n2018-En-01176\\t@elegantlywasted @ChelseaClinton Are they the new kennedy's of American politics.. sadly both mom and daughter are as charming as a toe nail\\tanger\\t0.364\\n2018-En-01696\\taleesha—kitchen sink, twenty one pilots (!!)\\tanger\\t0.306\\n2018-En-03948\\tShe mad sus hung up on me 😂\\tanger\\t0.438\\n2018-En-01685\\tMy dog wouldn't stop barking so now I'm up at eight am with a raging headache\\tanger\\t0.734\\n2018-En-02683\\tYes @itv2 @LoveIsland putting that Angel @MikeThalassitis back in the villa was the best move #revenge #returnofthemike #LoveIsland #hot\\tanger\\t0.359\\n2018-En-04005\\tPlease ruin this party, @NSWRL. #origin #blues\\tanger\\t0.453\\n2018-En-00938\\t@_Oteraw unhappy and unfulfilled 😂\\tanger\\t0.438\\n2018-En-04213\\tHow shit and depressing is this weather wish I can travel the world for a living\\tanger\\t0.636\\n2018-En-00836\\tThreaten to leave your girl shaking in a wet spot ....\\tanger\\t0.438\\n2018-En-00420\\tI mean, not that I wanted goats to faint... but I wanted to see the goats faint.  #eclipse\\tanger\\t0.298\\n2018-En-02438\\t@MafiaWorldMario Stg everybody say that 😂 then when we tell them they got huff they be mad as shit\\tanger\\t0.606\\n2018-En-04256\\tWoke up feeling fresh with a clear mind. That's never happened before.\\\\n#morning #sober\\tanger\\t0.156\\n2018-En-01911\\tIt’s lack of #faith that makes #people #afraid of #meeting #challenges …\\\\n\\\\n#MuhammadAli\\tanger\\t0.242\\n2018-En-00862\\tYou would think booking a holiday for 2 you'd be sat next to each other on the bloody plane #fuming 😡@ThomsonHolidays\\tanger\\t0.750\\n2018-En-03644\\t#resentment best Beyoncé song #dontdebateme\\tanger\\t0.391\\n2018-En-01796\\tyou annoy me, your name annoys me, your EVERYTHING annoys me 🙃\\tanger\\t0.828\\n2018-En-00002\\t'to fill his campaign bank account with tens of millions of dollars'..trump 2020 campaign to start now #sad  #bad\\tanger\\t0.515\\n2018-En-04002\\tand after i got home in such a horrible mood my mom pissed me off the moment i stepped my feet in the house so i really almost go off on her\\tanger\\t0.931\\n2018-En-00910\\tMint owls are often indignant.\\tanger\\t0.203\\n2018-En-03337\\t@JoshuaRozenberg Oh dear! #tantrums\\tanger\\t0.500\\n2018-En-00991\\tWhat should I do to teach people effectively? #questions #answer #help #twitter #nice #sad #begging #angry #teacher #what\\tanger\\t0.375\\n2018-En-02012\\tIt was at least boiling temperature last night.\\tanger\\t0.197\\n2018-En-03065\\tThe pessimist complains about the wind; the optimist expects it to change; the realist adjusts the sails.\\tanger\\t0.203\\n2018-En-02760\\tDesi feminists must have it the hardest. Imagine controlling that rage due to having to dance in a wedding at 'Mai Baarish Kar du Paise ki'\\tanger\\t0.516\\n2018-En-01350\\tSome people are shady a'f \\tanger\\t0.563\\n2018-En-04307\\t+++ '#Dearly #beloved, avenge not yourselves, but rather give place unto #wrath: for it is #written, #Vengeance is #mine; I …' #Romans12v19\\tanger\\t0.281\\n2018-En-03269\\tListening to these refugee children, barely a decade old, describe the horrific acts they were forced to commit is terrifying. #DatelineSBS\\tanger\\t0.609\\n2018-En-00709\\tMan I feel like crap today 😰\\tanger\\t0.531\\n2018-En-00581\\ti excepted the eclipse to make me believe in an omniscience force #dissapointed\\tanger\\t0.641\\n2018-En-03941\\tSomeone's nicked my lunch out the fridge at work!! Roast dinner as well! #fuming\\tanger\\t0.797\\n2018-En-01289\\tOkay @BTS_twt it was fun and all you can change your layout back to something goofy and domestic as usual pls I'm intimidated rn\\tanger\\t0.223\\n2018-En-01793\\tWow! Today, totally seeing alot of #mean #people out in this #world! Turn it around and #start cultivating #kindness! #SuccessTRAIN #warrior\\tanger\\t0.219\\n2018-En-04062\\t#PhoenixRally #Deplorables insult and denigrate #JohnMcCain as he struggles with treatment for #glioblastoma #impeach45 incites \\tanger\\t0.698\\n2018-En-03002\\tWe need but little learning to live happily - Michel de Montaigne #quote #philosophy #wisdom #wisewords #mentalhealth #psychology #anxiety\\tanger\\t0.234\\n2018-En-02522\\tPost TRNSMT blues\\tanger\\t0.258\\n2018-En-01481\\tLiterally kicking myself for not catching up on GOT and now all I see is SPOILERS #pissed\\tanger\\t0.844\\n2018-En-00133\\tI think I'll eternally be irritated by our LIT teacher 😂\\tanger\\t0.516\\n2018-En-03749\\t@TheView Joy isn't a comedian. She's a bully for fat shaming the governor. Great example she's setting for her grandson.\\tanger\\t0.500\\n2018-En-01192\\t@TheEllenShow I follow you bc your TV show keeps me laughing🤣.  When you #startle your guest sitting on that couch...booo...\\tanger\\t0.203\\n2018-En-01568\\t@silverstein 13th time seeing you guys today and you cancel the meet and greet because of the storm. We're all soaked.. 😡 #dissapointed\\tanger\\t0.797\\n2018-En-01101\\tTonight's run.... #restless\\tanger\\t0.484\\n2018-En-00688\\t@AwardsDaily Looks that way.  I don't want to see how Q is going to handle Tate murder.  #shudder\\tanger\\t0.547\\n2018-En-01059\\t@BillMoyersHQ Elderly belong w/family; our social system is broken.  This egregious 'Meancare' will shake it up, alas.\\tanger\\t0.688\\n2018-En-03355\\t@del_krushnic I knw you have a temper paaa lol just chill dear don't be pissed waii or I will else worry u saaa but I'm sorry 😫\\tanger\\t0.469\\n2018-En-00118\\tThere's nothing interesting here besides of retweet for follow #annoyed 😣😣\\tanger\\t0.859\\n2018-En-00124\\tTheme of week: Ask the Lord for strength &amp; perspective to persevere in #integrity and effort, despite being #disheartened &amp; disappointed.\\tanger\\t0.344\\n2018-En-00941\\t@ProfessorF @Mediaite @law_newz Childish temper #tantrums are all the left has left. :)\\tanger\\t0.530\\n2018-En-01132\\t@izzyaline burning up damn\\tanger\\t0.656\\n2018-En-02149\\tFreakin a...I deleted half the episode of BIP on accident  #bachelorinparadise\\tanger\\t0.641\\n2018-En-04209\\tAsk for my #snapchat #pussy #cock #horny #cum #wet #tits #follow \\tanger\\t0.242\\n2018-En-00628\\tCan't handle rude people. Doesn't matter what job you do, a consultant or not, treat people how you would like to be treated 😡 #disapointed\\tanger\\t0.750\\n2018-En-03073\\t@AmyJoSmyth #OOC Thing is she holds a grudge like mad\\tanger\\t0.625\\n2018-En-01368\\t462 appearances in PL and 200 goals!! 2.31 games per goal. That's very nearly a goal in every 2 games #crap 😂😂 🙄🙄🤔🤔 #Rooney\\tanger\\t0.359\\n2018-En-00438\\tDo people notice that only saying 'You're so pretty' when I have make-up on. Is offense! \\\\n&amp; I take note that they never say it when I don't.\\tanger\\t0.545\\n2018-En-01563\\t@emmajckson awe thank you (,:\\tanger\\t0.076\\n2018-En-02063\\t4 hours. \\\\n4,189 words.\\\\n1 story.\\\\n#amwriting #horror #publishorperish\\tanger\\t0.406\\n2018-En-03770\\tBrown envelopes can induce panic. #posttruth\\tanger\\t0.455\\n2018-En-02378\\tHow sick must someone be that they wish to 'punish' someone for not being their friend?  #insecure #lonely #miserable #vengeful #RHOC\\tanger\\t0.773\\n2018-En-00291\\tMy boyfriend is my whole world 😭\\tanger\\t0.109\\n2018-En-02484\\tThe same part of roof bar (driver's side) are stolen from Grand Vitara cars. Let it be known. This is really #disheartening #brunei\\tanger\\t0.622\\n2018-En-03381\\t🇿🇦has become a place where people even the most timid of us all are baying for blood around every corner.\\tanger\\t0.516\\n2018-En-04347\\tI'm back on Twitter! #madden #madden18 #maddenmobile #ea #nfl #espn #packers\\tanger\\t0.172\\n2018-En-00790\\tBeen at work for not even 4 hours and I've thrown boiling tea everywhere, smashed a mug, smashed a milk jug and sliced my finger open😐\\tanger\\t0.833\\n2018-En-00716\\t@badpostyoongi I know for a fact they'll either ignore the fact tiff isn't or change Cindy's background\\tanger\\t0.455\\n2018-En-03036\\tSo now I have to buy a whole new computer \\tanger\\t0.547\\n2018-En-01253\\t@theIeansquad @SatanHeavenly Rap is so unbearable and horrific.\\tanger\\t0.682\\n2018-En-01671\\tNigga write me talking bout I dreamt about you, cool I hope I was haunting you in a nightmare\\tanger\\t0.636\\n2018-En-01302\\t@kamaalrkhan Which #chutiya #producer #invested in #crap #deshdrohi ??\\tanger\\t0.531\\n2018-En-03640\\t@RGUpdate Have you tried English hospital food ?? #yak #gross \\tanger\\t0.500\\n2018-En-04014\\tmade up my mind to \\\\nmake a new start\\tanger\\t0.219\\n2018-En-02824\\t@JoyceMeyer @mrsglessman #day of #vengeance of our #God; To #comfort all who #mourn, To console those who #mourn in #Zion, To give [4/7]\\tanger\\t0.318\\n2018-En-00559\\tAfrica has unique and tremendous problems with war, overpopulation, starvation and tribalism which makes moving Africa forward hard.\\tanger\\t0.379\\n2018-En-01889\\t@itskaiouji Noooo, Sunbae-nim! Don't tease me like that- 😤\\tanger\\t0.531\\n2018-En-02097\\tNow that Ravi Shastri is finally appointed as the head coach, it'll be interesting to see whether Kohli finally stops throwing his tantrums.\\tanger\\t0.438\\n2018-En-03498\\t@PamelaGeller Disgusting. @facebook you just may end up like #snap. #traitor\\tanger\\t0.656\\n2018-En-01637\\tI woke up still not hardly believing what all happened last night 😰\\tanger\\t0.387\\n2018-En-00613\\tCan't stand it when lads put their middle finger up in pics \\tanger\\t0.719\\n2018-En-03053\\t@GarfieldLineker @TimCRoberts *on his back. Apologies for retweeting a tweet with grammatical error #mybad 😱\\tanger\\t0.469\\n2018-En-03798\\t@angrydwarf9 @carolinesandall It ruins my frigging night each night at 9pm. Mrs loves it, i've been early to bed for a month. #dreadful\\tanger\\t0.672\\n2018-En-02468\\tWe can replace #loss with #hope, #hate with #love, #pain with #gain, if we close the window of #bitterness and open doors of #faith. #TryIt\\tanger\\t0.375\\n2018-En-01838\\t@maidinaustralia D: That's horrid. *hugs*\\tanger\\t0.500\\n2018-En-02236\\t@kylegriffin1 #outrage police\\\\ntelling a woman she looks nice for her age is apparently sexist.\\\\nYou #FakeNews people are #crazy\\tanger\\t0.581\\n2018-En-03362\\tWrapped In This Burrito, Gotta Sweat This All Out 😰\\tanger\\t0.391\\n2018-En-01197\\tJeong su is easy to get along with everybody likes him and not intimidated by him.. I like him.. he reminds me of seunghoon\\tanger\\t0.266\\n2018-En-02517\\tUnited Airline at Newark needs more Kiosks so that people won't miss their cut off time.  And hire more ppl too.  #horrible\\tanger\\t0.682\\n2018-En-01648\\t@Lythero *hugs himself hoping Doom shows up to insult everyone*\\tanger\\t0.422\\n2018-En-03120\\tGood Morning Tuesday! No crap today please 😃 #tantrums #toddler #cuddly #struggles #3 #10 #PMA\\tanger\\t0.274\\n2018-En-00689\\tThat moment when you look back and realise you've been a #selfish #horrible #judgemental person. #FeelingAshamed\\tanger\\t0.594\\n2018-En-00207\\t5 goals in 87 appearances last season between McKay, Holt and Windass! Simply is horrific! Get midfield balance sorted and team will fire!\\tanger\\t0.516\\n2018-En-01284\\t@BrettKeeble I guess it never. @smartassunit #worry\\tanger\\t0.469\\n2018-En-04148\\t@chelston_dsouza Conte is furious with his board, wants all of them or he quits.\\tanger\\t0.547\\n2018-En-01291\\t@narendramodi @AmitShahOffice @OfficeOfRG @arunjaitley all the politicl prties lv n care fr ppl whn in opstn.  #AmarnathTerrorAttack\\tanger\\t0.485\\n2018-En-01362\\t@CNN thanks Hollywood, (Depp). all these climate change fanatics using private jets and gas guzzling cars are to blame for this! #outrage\\tanger\\t0.694\\n2018-En-00970\\tvery very irritated 😐\\tanger\\t0.871\\n2018-En-01395\\t@_Buddh_ @rohit_mhpl @indujalali @rajnathsingh We are also wating when terrorism willb history. And one thing kashmir is not India's\\tanger\\t0.455\\n2018-En-04348\\t@KeenanRuggeri You would have been raging as it was probably put in place instead of an extra crisp\\tanger\\t0.609\\n2018-En-02386\\tHmm...looks like no one @Tampax is available to respond. Its like waiting for a #doomsday reply. That #burning question with no #answer\\tanger\\t0.652\\n2018-En-01474\\tDidn't know the @ChickfilA cow day thing ended at 7:30 so showed up 30 min late looking like a cow with no sandwich #sadness 😅😅😅\\tanger\\t0.500\\n2018-En-02462\\tDannie you're a terrible influence, piercing time😂💉\\tanger\\t0.281\\n2018-En-03643\\t@WhiteJennyB @EmreUslu jenny white  u r the dumbest here .. What r u trying ? Get lost..\\tanger\\t0.813\\n2018-En-01354\\t@LoveMyFFAJacket FaceTime - we can still annoy you 😂\\tanger\\t0.290\\n2018-En-04276\\tHis interlocutor burst out laughing several times at his answers; and more than ever, when to the question, ‘ whether he had been cured?�\\tanger\\t0.258\\n2018-En-02662\\t@jihnwi u literally name us a word close to prostitutes ok oomf...... 😰\\tanger\\t0.470\\n2018-En-01472\\tO, the melancholy Catacombs quickly wandered about the Rue Morgue, Madman!\\tanger\\t0.532\\n2018-En-02120\\tNot letting anyone anger me or change who I am.\\tanger\\t0.265\\n2018-En-03719\\tThe blackest abyss of despair, Alonzo\\tanger\\t0.453\\n2018-En-02296\\tImagine how many ksones are crying right now for not getting tickets 😭 Meanwhile, isones dont even get a chance to go on war for tickets 😭\\tanger\\t0.703\\n2018-En-00898\\tNot sure tequila shots at my family birthday meal is up there with the best ideas I've ever had #grim\\tanger\\t0.196\\n2018-En-04314\\tPlease stop ruining my depressing memes with your positivity and optimism\\tanger\\t0.475\\n2018-En-00452\\tagain i realize some of you may worry about me being gone so long! fear not, for i have made a new life for myself in the sewers,\\tanger\\t0.323\\n2018-En-01125\\tB4 I couldnt get out of bed or look in mirror Thankful4all the support I have recieved here ImWakingUpHappyNot dreading theday \\tanger\\t0.250\\n2018-En-04274\\t@Cmdr_Hadfield CNN's Wolf Blitzer calls you an American astronaut and you don't correct him? #dissapointed\\tanger\\t0.609\\n2018-En-02352\\t#AmericasGotTalent live shows with so many technical faults #disheartening\\tanger\\t0.545\\n2018-En-02523\\t@vinsquat67 It was indeed, I was raging at the verdict. Can't imagine how the poor lassies family felt.\\tanger\\t0.636\\n2018-En-04353\\t3 and a half hour more 😤 #EXO\\tanger\\t0.394\\n2018-En-01833\\t@duthie @Carabao_Cup Lets not mention this again! #QPRvBRE \\tanger\\t0.469\\n2018-En-01755\\tWhat does Amelia want?! Sarah was v grateful  #CBB\\tanger\\t0.313\\n2018-En-03843\\tIf @TheRock's Presidential run is as bad as his appearance in #Baywatch neither party need fear his run. That's $8 I'll never get back #crap\\tanger\\t0.672\\n2018-En-03289\\tLike I might've set it down on top of my car &amp; if so, that shit is long gone 😭 \\tanger\\t0.588\\n2018-En-03805\\t@Ben_Ripley42 I dont know but you seem to have annoyed her 😄\\tanger\\t0.545\\n2018-En-03781\\twhen everyone you know has died because of a treaty you had no involvement in drawing up, you get an enormous amount of fury\\tanger\\t0.594\\n2018-En-02963\\tFucking fuming is an understatement\\tanger\\t0.727\\n2018-En-00880\\t@RoflCritic @NBTDilli @SudamaNBT ,BJP MCD busy collection of suvidha sulk from unauthorised colonies\\tanger\\t0.439\\n2018-En-00459\\tWtf shawty ass on 😤\\tanger\\t0.563\\n2018-En-01148\\t'When the mind is denied the emotional sting of losing it never figures out how to win.' -Jonah Lehrer\\tanger\\t0.281\\n2018-En-01501\\t#LouiseLinton - haters gonna hate keep on being your#fabulous self they'll keep on being  #miserable\\tanger\\t0.339\\n2018-En-02293\\tThe way I'm always on twitter at work is a little alarming 🤦🏾\\u200d♀️\\tanger\\t0.344\\n2018-En-02612\\t#depressed Today was bitter sweet watching all the kids go back to school made me really miss my babies. I'm so broke #backtoschool2017\\tanger\\t0.591\\n2018-En-00492\\tToo much caffeine, and I'm dyyyying. #jitters #shakes #paranoia #heartbeat1000 ☕💔\\tanger\\t0.453\\n2018-En-00520\\tQuite possibly the worst anthems I've ever heard in pro sports by both singers. I wish I was deaf. #ASG2017 #mlb #MLBAllStarGame \\tanger\\t0.672\\n2018-En-03330\\t@NitashaKaul @Snehakaul2Kaul so beautiful dear, thanks,everybody knows it is in benefit of India &amp; GOI has done this terror attack as before\\tanger\\t0.406\\n2018-En-03322\\tDefinitely something happening today #SolarEclipse2017 #weird #annoyed\\tanger\\t0.773\\n2018-En-01360\\tI haven't lost weight but I appear smaller and I'm pissed 🙄\\tanger\\t0.823\\n2018-En-03133\\t@PayPalUK have well &amp; truly done me over the day before I go on holiday! #fuming\\tanger\\t0.645\\n2018-En-03970\\t@Jarrius Send me a FR: Jaygerrr and I'll smoke you on madden when it comes out 😂🤙\\tanger\\t0.344\\n2018-En-03010\\tI just watched the video that i took at troye's concert last year during happy little pill and now im crying i miss him @troyesivan 😭\\tanger\\t0.391\\n2018-En-02288\\t@NewsByKatherine @jonkarl @ABC YOU GUY'S SOUND astounded!! Does anyone working w Trump WH have an any ethical,moral, values? 🙈🙉🙊\\tanger\\t0.359\\n2018-En-02017\\t#revenge marathon has begun ⚡\\tanger\\t0.531\\n2018-En-03161\\tHearing the Song by Phone glued to ears like if the singer spoke to me... #mad #mad hahah\\tanger\\t0.274\\n2018-En-03338\\t@0510Keisuke devour the unborn\\\\nhuman rejection\\\\nfrom wrath to ruins\\tanger\\t0.652\\n2018-En-04173\\tTime for a #burst #burstcoin fork??\\tanger\\t0.406\\n2018-En-02512\\tIs it supposed to be this arduous to interact with other people? I'm 'other people' to them and they don't seem to struggle. \\tanger\\t0.453\\n2018-En-02214\\tWhen I think about Yondu &amp; his crew, Rocket, &amp; Groot doing 700 jumps to Ego planet, I start laughing.\\tanger\\t0.203\\n2018-En-01678\\t@ehtesham_toi @RaviShastriOfc unfortunate decision, our players are more of superstars than cricketers. BCCI scared of their tantrums.\\tanger\\t0.563\\n2018-En-04327\\t@JusticeWillett Lord, we don't understand tragedy. Do what You do best: bring good grom it and comfort those who mourn. Amen\\tanger\\t0.266\\n2018-En-01335\\t@AGlyndwr @TeaPainUSA All I know is the sentence will start with 'look...' like any high school punk would start a threat.\\tanger\\t0.438\\n2018-En-00156\\t@byunsolo I DIDN'T ASK FOR THIS EITHER IT JUST HAPPENED 😤\\tanger\\t0.621\\n2018-En-04047\\tBlah blah blah Kyrie, IT, etc. @CJC9BOSS leaving Boston is the real news and I am #devastated! #celtics #fave  #someonegetmeajerseyteeasap\\tanger\\t0.609\\n2018-En-02502\\tNah but as a governor how do you call someone a bum &amp; that you love calls from 'communist in Montclair' ? 😂 #crying\\tanger\\t0.500\\n2018-En-01810\\tCan't Talk To An Incompetent Person. Goes In One Ear and Out The Other. #irritated #NoPoint #MassiveEyeRoll\\tanger\\t0.844\\n2018-En-03556\\ti've been to 1 and 1/3 of my classes today and i am already \\tanger\\t0.383\\n2018-En-03237\\twas one moron  driving his oversize tonka truck with the big flag in the bed back and forth blaring country music. 😐 #disappointment\\tanger\\t0.625\\n2018-En-04090\\tEEEEEKKKK!!!!\\\\nProduct LAUNCH 😍✋💖\\\\nI'm am literally B•U•Z•Z•I•N•G!!!\\\\nSingle sachets 😍😍\\\\n \\\\nMessage me for yours! 😜🙆💜#loveyourlifestyle #shakes\\tanger\\t0.177\\n2018-En-03823\\t@FFigureFBust How so? I've been thinking of getting it done and now you've given me a frighten.\\tanger\\t0.456\\n2018-En-02781\\tThe sound of rain is pretty peaceful when you're in a very annoyed mood 😅\\tanger\\t0.375\\n2018-En-00874\\tA programmer’s wisdom is understanding the difference between getting program to run and having a runnable program.  #puppy\\tanger\\t0.164\\n2018-En-04332\\t@1720maryknoll I was #fuming Kenny.\\tanger\\t0.656\\n2018-En-01321\\t@shanedawson @JeffreeStar @JessButtafuoco No offense but.. Jeffee looks like a pink demon😂\\tanger\\t0.188\\n2018-En-01627\\t@comrade_islaboy HAHAHAHAHA. Hornet's nest. Let them sting each other.\\tanger\\t0.475\\n2018-En-01328\\tcoffee the floor; And the soul grew furious as the stillness broken by little,\\tanger\\t0.459\\n2018-En-01339\\tWhen Duane Allman died, I learned to appreciate Stevie Ray Vaughan. True story.  #blues #legends\\tanger\\t0.227\\n2018-En-02820\\t@SRuhle @MSNBC Sebestian Gorka, what a arrogant A~hole! Has no business speaking! \\tanger\\t0.806\\n2018-En-03962\\tProtesters in Brazil are burning effigies of their President. He and some of his cabinet are under investigation for corruption. #sabcnews\\tanger\\t0.391\\n2018-En-00832\\t@skh4808 @theveteran425FA @TomiLahren Then why'd they wait until now to start getting pissy? \\tanger\\t0.719\\n2018-En-01733\\t@thatradiogeek That is a tremendous thing to wake up to and read, man. Glad to hear it, as we need WAY more people helping with this.\\tanger\\t0.197\\n2018-En-00982\\t@freemanstanzan2 you're a cowan... that means you're a slimebag. I wouldn't trust you as far as I could throw you. #arsehole @StuartHarker1\\tanger\\t0.813\\n2018-En-04328\\tHolding on to anger is like drinking poison and expecting the other person to die.\\\\n#KissablesLoveSMShopmag\\\\nAllOutDenimFor KISSMARC\\tanger\\t0.485\\n2018-En-00697\\t@Brennan_PB Backs up what I always thought ... yer all as mad as each other 😂\\tanger\\t0.303\\n2018-En-02524\\t1/If the Church is being attacked with such fury, and from the inside, that means that the Church is exactly what we need to belong to!\\tanger\\t0.424\\n2018-En-02703\\tDon't let hatred grow in you, otherwise everything in your life will be affected. It will distract &amp; anger you. It will often end in regret.\\tanger\\t0.290\\n2018-En-03733\\tOh @BentleySystems what hast thou done to thy configurations? #despair\\tanger\\t0.682\\n2018-En-00728\\tsince the last episode of fight for my way is airing tonight &amp; taekook will probably watch it together, do y'all think jk might take revenge\\tanger\\t0.438\\n2018-En-02475\\tAnd I will eat the end of term chocolates we bought as well! #fuming #doesntdeservethem #mightbedead\\tanger\\t0.565\\n2018-En-02599\\tLook upon mine #affliction &amp; my \\u200b\\u200b\\u200b#pain\\u200b; &amp; forgive all my sins. -Ps 25:18\\tanger\\t0.203\\n2018-En-04243\\tGood morning and happy Tuesday! I hope you have a terrific day! Enjoy it tons 😃\\tanger\\t0.125\\n2018-En-04123\\tVery high bond for unrelated offense.  Cops and FBI are digging on a property. Me fears this doesn't end well for families\\tanger\\t0.406\\n2018-En-02070\\tI click on download on my PC. Message says 'Thank you for downloading #iTunes \\\\nSo, where's the download?! #frustrated \\tanger\\t0.859\\n2018-En-02032\\tChyna didnt respond to rob cus she knew damn well she was plottin. But i knew he hurt her deeply with that revenge porn\\tanger\\t0.470\\n2018-En-03406\\tLetting go of anger is key to happiness. Please help me let go of these angry feelings. #happiness #anger\\tanger\\t0.379\\n2018-En-00162\\t@mickyrivera29 interesting but a transfer too costly. You can only irritate others when you get a top talent for a low/ avg fee\\tanger\\t0.578\\n2018-En-00142\\t+ cant get to tell them what will offend them or not\\tanger\\t0.290\\n2018-En-00332\\t@IainDale @LBC The only word worse than 'moist' in my opinion is 'scrape'. #ugh #shudder\\tanger\\t0.581\\n2018-En-03024\\t@AChubbyPanda *He would growl softly and licks his lips.* 'if I need to prove myself, I think we might need to go somewhere private.'\\tanger\\t0.221\\n2018-En-01821\\tWon't be watching ESPN anymore, they took Robert Lee off because of HIS name, PC Police, what insanity! more #hatred #bigots #LeftwingNutJob\\tanger\\t0.891\\n2018-En-00515\\tAlso my 80s megamix ain't so mega tonight \\tanger\\t0.382\\n2018-En-04103\\t@Jack_Septic_Eye Grass growing simulator is offended\\tanger\\t0.563\\n2018-En-03658\\tThat was absolutely the two worst National Anthem singers I've ever heard, both of them screwed up the words #awful\\tanger\\t0.823\\n2018-En-01027\\t@JohnMayer No DSM shows. #sadness\\tanger\\t0.500\\n2018-En-02434\\t@ScottAdamsSays broke it down on #snap great analysis on #CNBC\\tanger\\t0.313\\n2018-En-04082\\tLeviticus 19:14\\\\nYou shall not curse the #deaf or put a stumbling #block before the #blind, but you shall #fear your #God: I am the [1/2]\\tanger\\t0.212\\n2018-En-02083\\tSeriously about to smack someone in the face 😵 #arsehole\\tanger\\t0.922\\n2018-En-02180\\tJust paid out my arsehole for a couple of New Found Glory tickets but it's gonna be a GREAT start to my birthday weekend 👊\\tanger\\t0.394\\n2018-En-03803\\t@UNESCO Remember not to spread #hatred and #fakenews on the internet. Do not abuse #Hashtag10 for spreading #ArabNationalism!\\tanger\\t0.621\\n2018-En-00062\\t#LoiuseLinton has become the female #MartinShkreli. Most hated woman in America. That takes some skill. #entitlement  #notcute\\tanger\\t0.606\\n2018-En-00747\\t5,000 new US #citizens swearing in now! #tears #congratulations\\tanger\\t0.203\\n2018-En-00120\\t@junkersquawker Oh lords. That would have had my blood boiling\\tanger\\t0.625\\n2018-En-01502\\t@Activehours I need someone to reply back to me immediately. I am not happy and not getting timely responses through the app! #help \\tanger\\t0.781\\n2018-En-02975\\t@SteveBakerHW When it comes to CREDIBLE scare stories George Osbourne is crap, still at it I see.\\tanger\\t0.609\\n2018-En-00076\\t@1ncamera @Weehugs @DavidYoungPA @PA Stupidity is part of their proud cultural identity. 😠\\tanger\\t0.790\\n2018-En-02341\\tPeople were always afraid that stodgy squares would kill rock and roll, but the only legitimate threat was ever child choruses.\\tanger\\t0.344\\n2018-En-03715\\t#Rage and #disappointment man.... Is that life or what? Lol\\tanger\\t0.606\\n2018-En-03889\\tSo great havin @SamGowland123 back on our screens 😁😁 and fingers crossed @MikeThalassitis goes for Georgia 🤞😂 #revenge #loveisland\\tanger\\t0.172\\n2018-En-02573\\t@praddy06 sir.. will we have the need for umbrella today evening.. sun seems to be stronger to pave way for clouds.. 😟\\tanger\\t0.281\\n2018-En-03107\\tWhy are girls so bad at letting shit go? That's prolly why they're moody. They're all built up with grudges and anger and regret. 😂\\tanger\\t0.656\\n2018-En-03275\\t#Worry never robs tomorrow of its #sorrow; it only saps today of its #strength - A. J. Crown #faith #positive #motivation\\tanger\\t0.227\\n2018-En-02316\\ttoday i feel like an exposed wire dangerously close to another exposed wire and any provocation will fry me\\tanger\\t0.734\\n2018-En-00256\\t@rosieblossoms_ What a miserable piece of shit 😡\\tanger\\t0.955\\n2018-En-02922\\t@devlinjim @SophieLong01 What about Daniel 7:9? - his throne\\xa0was like\\xa0the fiery flame,\\xa0and\\xa0his wheels\\xa0as\\xa0burning fire.\\tanger\\t0.359\\n2018-En-03916\\tGot woken up by a road sweeper I was trying to sleep \\tanger\\t0.594\\n2018-En-01239\\tmaybe me and joey should have ignored each other on tinder and posted it on social media for a trip to Hawaii ☹️ #bitter\\tanger\\t0.672\\n2018-En-01524\\t@NRO @Acosta @CNN @realDonaldTrump remember when NRO gave CNN grief about their relentless HC email crusade? me either.\\tanger\\t0.500\\n2018-En-00171\\t\\ufeff2|206|When it is said to him, 'Fear Allah', He is led by arrogance to (more) crime. Enough for him is Hell;-\\tanger\\t0.645\\n2018-En-04370\\tWAIT...Lawrence's friend dragged the fuck outta him!! \\tanger\\t0.621\\n2018-En-02445\\tIf you are going to be a nurse, learn to be a nice patient person, Jesus 🙃 \\tanger\\t0.422\\n2018-En-02116\\tCan't drink all day if u don't start in the morning .. Drake gets me 😛\\tanger\\t0.219\\n2018-En-01408\\t@3lectric5heep Well that must sting doesn't it @CNN ?\\tanger\\t0.344\\n2018-En-02937\\tI have actually watch drugs destroy an entire family 😢Mother's on skid row. Oldest daughter lost her child. Father is estranged. #horrific\\tanger\\t0.672\\n2018-En-02744\\tIf you build up resentment in silence are you really doing anyone any favors\\tanger\\t0.328\\n2018-En-00014\\tOr all of it, with our displeasure pieced, #shakespeare\\tanger\\t0.438\\n2018-En-04352\\t#Twitter these days is just a massive critical debate on those that people don't like #annoying #depressing and #dull 😑\\tanger\\t0.719\\n2018-En-01538\\tIf u #smile too much😀\\\\nu get frown lines,\\\\nif u #cry too much😣 \\\\nu get eye wrinkles,\\\\n\\\\n🔂 laugh&amp;cry\\\\n\\\\n ...it's #life 💗\\\\n\\\\nHave a great day\\\\n\\\\n🍯🐝's\\tanger\\t0.076\\n2018-En-01312\\tWhy does @DANCEonFOX get rudely interrupted by the worst thing ever imaginable?!? Ugggg #irritated\\tanger\\t0.875\\n2018-En-01190\\tif you wake up somewhere else...you will know some #arsehole has pressed a button ;)\\tanger\\t0.613\\n2018-En-02222\\tTotally scare for this upcoming results .\\tanger\\t0.438\\n2018-En-03038\\tJames Clapper 'scary and disturbing'.  #25thAmendmentNow #ImpeachTrump  #terrified #nuclearcodes  #Godhelpus\\tanger\\t0.597\\n2018-En-01458\\tRemember your identity is in Christ. Give the sting of rejection to Christ. He’s been there he’s done that and He has the scars to prove it.\\tanger\\t0.281\\n2018-En-00469\\tBaby, I'm dancing in the dark\\tanger\\t0.172\\n2018-En-00755\\tHow do you feel about @Snapchat new feature #SnapMap 👎👍❓ #twitterpoll #polls #vote #Poll #Snapchat  #twitter #tech #technology\\tanger\\t0.219\\n2018-En-03875\\tEverything I order online just comes looking like a piece of shit 😤\\tanger\\t0.864\\n2018-En-02551\\tThe next time I go to Lagos I will gate crash somebody's owambe dressed in lace and gele to eat amala and shake my waist😑\\tanger\\t0.375\\n2018-En-01602\\t@gunghoindallas Proverbs 8:13\\\\nThe #fear of the #Lord is to hate #evil; Pride and #arrogance and the #evil #way And the perverse #mouth [1/2]\\tanger\\t0.379\\n2018-En-03279\\tAlright Alex and I have party boy neighbors who blast music \\tanger\\t0.435\\n2018-En-00292\\tI live 30 miles away from work, &amp; arrived to realise laptop is still on the bed. \\tanger\\t0.578\\n2018-En-00135\\tAnd I'm really pissed the fuck off because I do a good job of keeping my kid well because I don't like to see her sick and sad.\\tanger\\t0.922\\n2018-En-01665\\tSomething #awestruck me today as i was laughing to a non subtitle korean variety show...\\tanger\\t0.156\\n2018-En-03550\\t@rizikxo @estherolo_ @Corinnetuc17 @ING Her reasonings behind this.  \\tanger\\t0.219\\n2018-En-02044\\tre: thread of that brit freaking out over minor cultural differences - your indignation would be cuter without the imperialist undertones\\tanger\\t0.500\\n2018-En-04092\\twhy don't the kids on my street have msn or something to play on instead of enjoying themselves outside #bitter #shush\\tanger\\t0.609\\n2018-En-03990\\tThat you have banished your own sadness, the way I am? #somber\\tanger\\t0.433\\n2018-En-03236\\t@andyfleming83 Bastard squirrels. 😡\\tanger\\t0.844\\n2018-En-00627\\t@chelseanews4you Best of luck blues army make us feeling goofy this season again  BLUES TILL ETERNITY\\tanger\\t0.242\\n2018-En-02845\\tLiterally hanging on by a thread need some taylor ray tonight loving a bad dog sucks #taylorrayholbrook #hurting @TaylorRaysTweet\\tanger\\t0.656\\n2018-En-00622\\t@nextofficial placed order for nearly a grand SIX weeks ago, called yesterday, order 'missing' and no call back today! #shocking\\tanger\\t0.767\\n2018-En-04291\\t@UKSportsZone In other words, I don't like the result of the poll so I'm packing up my polls &amp; taking them home while I pout. 😂😂😻 #bbn\\tanger\\t0.545\\n2018-En-02447\\tWhen the lights shut off and it's my turn to settle down, my main concern...\\tanger\\t0.375\\n2018-En-00184\\twhen we're offended. Lol\\tanger\\t0.344\\n2018-En-03320\\tUP students really out there raging against tuition collection #freeeducationnow\\tanger\\t0.563\\n2018-En-01895\\tSarah is a complete lunatic. How Chad is still giving her his time is beyond me. #cbb #mad #crazy\\tanger\\t0.817\\n2018-En-03252\\t@AliceT120 @shaney_waney1 @shaney_waney1 u horrible non gender binary boy go fangirl over some mediocre singers who CANT EVEN SUPPORT\\tanger\\t0.750\\n2018-En-00534\\tGet the feeling @Eurosport_UK and @itvcycling might be reviewing showing all stages in full. Poor @robhatchtv @nedboulting 😴😴😴 😉 #dull\\tanger\\t0.406\\n2018-En-01589\\t@ParkerMolloy @KFILE Very misleading heading. Not to mention an agenda driven article. \\tanger\\t0.578\\n2018-En-01974\\tYou can have a certain #arrogance, and I think that's fine, but what you should never lose is the #respect for the others.\\tanger\\t0.478\\n2018-En-01806\\t'your marker teacher'.i looked at him n just burst out laughing i swear these kids will never take me seriously 🤦🏻\\u200d♀️\\tanger\\t0.250\\n2018-En-01449\\tThis is because of people like Saleem Sheikh humanity wins over terrorism n hatred #AmarnathYatraAttacked\\tanger\\t0.532\\n2018-En-01824\\tGod this match is dull #Wimbledon\\tanger\\t0.531\\n2018-En-03622\\tWhy the FUCK have i just saw a Game of Thrones spoiler on snapchat? SOME OF US HAVENT SAW IT YET 🖕🏻🖕🏻🖕🏻🖕🏻🖕🏻 #arsehole\\tanger\\t0.855\\n2018-En-00997\\tAt this point I can't tell if I just follow more people in politics on twitter now or if I need new friends. #wheresthefunny #depressing\\tanger\\t0.594\\n2018-En-03951\\tIf I have to hear one more time how I am intimidate men... I'm going to explode! Why are guys these days so pussified?\\tanger\\t0.766\\n2018-En-00957\\tget the fuck over yourselves. we are the most capable and you wanna sit and sulk in your bullshit and fear of failure honestly fuck yourself\\tanger\\t0.813\\n2018-En-00845\\t.@PreetBharara's Twitter barbs are both insightful and delightful to read; hell hath no fury like a crusading prosecutor scorned\\tanger\\t0.359\\n2018-En-03955\\tWhat is this miserable ass weather all about 😭 dark and gloomy #depressing #weekoff #wheresthesun\\tanger\\t0.773\\n2018-En-02397\\tIt's such a strange juxtaposition of emotions. A sense of euphoria but a sense of out most despair.\\tanger\\t0.531\\n2018-En-01820\\tAfridi !!! 100 off 42 !! #mad\\tanger\\t0.710\\n2018-En-00208\\tI’m so glad I’m not like some of the sad people online who gossip and bully others for their entertainment because they have no life.\\tanger\\t0.353\\n2018-En-02669\\ta lot of universities actively discourage even just one part-time job because it has a negative impact on studies--\\tanger\\t0.375\\n2018-En-00807\\t@virtualalien there are more #frightening things in life\\\\n\\\\n#BeyondTheSphereOfReasonableDoubt\\tanger\\t0.545\\n2018-En-00530\\t@WDA_Punisher @SgtDangerCow @Battlefield I think so too. \\\\nCasual audience was particularly unhappy with server admins and server rules.\\tanger\\t0.500\\n2018-En-03352\\tSelling nudes pics and vids kik me to buy! Dirty_becca69\\\\n\\\\n#kik #kikme #kikusernames #snap #snapchat #findom #nudes #slut #kiktrade #horny\\tanger\\t0.313\\n2018-En-02354\\tSo @Ryanair site crashes everytime I try to book - how do they help? Tell me there's nothing wrong &amp; hang up #furious #helpless @SimonCalder\\tanger\\t0.710\\n2018-En-03097\\tShooting more than ever, making more mistakes than ever but I jumped in the pool of sharks a long time ago.  #relentless *#resilient\\tanger\\t0.485\\n2018-En-02646\\tBeware the wrath of an angry, frustrated, #agile grandma with a network. 👵🏼😡 I'm just sayin'. #objectlesson\\tanger\\t0.703\\n2018-En-00749\\t#anxious don't know why ................. #worry 😶 slowly going #mad hahahahahahahahaha\\tanger\\t0.563\\n2018-En-02424\\twork is going to kill me and 5 o'clock is nowhere near 😟\\tanger\\t0.656\\n2018-En-00334\\tMigraine hangover has to be the worst thing ever 😣 #burst\\tanger\\t0.688\\n2018-En-01864\\t@CNN @NewDay If #trump #whitehouse aren't held accountable for their actions,what precedent is being set for future presidencies. #nightmare\\tanger\\t0.484\\n2018-En-03099\\t@CTAFails @cta is it ok for your drivers to smile not open the door and drive off \\tanger\\t0.410\\n2018-En-03250\\ty'all don't understand. this woman's wrath is REAL. 🌹🖤\\tanger\\t0.422\\n2018-En-02727\\tEach and every time I log on to that website to view the Lindsey Vonn pics I am #saddened by the courseness of our culture.\\tanger\\t0.594\\n2018-En-01758\\t@Chawndi @YouTube can i ask im trying to pout a code on csgo roll i cant when i pout the code its red color.. help pls\\tanger\\t0.500\\n2018-En-03680\\t@theAliceRoberts @FryRsquared @AdamRutherford They've obviously never tried 'repressing' a red head #fiery\\tanger\\t0.594\\n2018-En-01143\\tMy best friends driving for the first time with me in the car #terrifying\\tanger\\t0.438\\n2018-En-01581\\t@wizkidayo Bro u just dey burst my brain Bro I need u 2 pls end everything rift BTW u nd my hommie davido pls Bro 4 d sake of luv.\\tanger\\t0.333\\n2018-En-03625\\t@LogicIsPowerful Not all of them are bad. But I support your right to offend them all.\\tanger\\t0.455\\n2018-En-04229\\t@rachelkennedy84 @callummay @Ned_Donovan @JeyyLowe @jimwaterson @dats Can it do the bell ringing and incense at consecration?\\tanger\\t0.331\\n2018-En-01835\\t@chrisyour Don't be sad, ultimately it's apparently not supported completely but mostly working :-)\\tanger\\t0.364\\n2018-En-03471\\tI'm sorry but also...fuck you #currentfeels #anger #bpd #eupd #borderliner #mentalhealth #anxiety #depression #confused\\tanger\\t0.797\\n2018-En-03935\\tWent to bed a 1:30, fell asleep after, my niece started crying at 4. I'm dying... 😧\\tanger\\t0.688\\n2018-En-03817\\t@elebelfiore Isn't it always about control and mistrust?\\tanger\\t0.344\\n2018-En-00900\\tI am shy at first.It usually takes me a few minutes to assess the jaw of the people i am hanging out with and then i will act according🤷🏽\\u200d♀️\\tanger\\t0.250\\n2018-En-03091\\tI like the #glow in the #dark #fidgetspinner. Not because it glows the dark neither. It feels more lighter and smoother than the others\\tanger\\t0.328\\n2018-En-01097\\t@washingtonpost @silvajanes How awful!!!!!!\\tanger\\t0.672\\n2018-En-00099\\tI always bounce back, life goes on man..I refuse to sulk in negativity. Yesterday's problems are just that, it's always a new day 🤗\\tanger\\t0.387\\n2018-En-01155\\ti don't understand ppl who save wasps , next chance that lil dude gets he gnna sting ur grandma\\tanger\\t0.485\\n2018-En-01887\\tIf you sit back, watch &amp; listen to every .@TheDemocrats &amp; .@DNC member, you'll quickly learn it's #Victimhood, #racism, &amp; #hatred. I'm #WOKE\\tanger\\t0.697\\n2018-En-00866\\t@RanaAyyub @rajnathsingh Oh, hidden revenge and anger...I rememberthe time,she rebutted you.\\tanger\\t0.641\\n2018-En-04041\\tChelsea and united must be furious\\tanger\\t0.563\\n2018-En-03846\\tSome 'friends' get bitter when it seems your life is moving better than theirs.\\tanger\\t0.656\\n2018-En-03879\\tI swear to god my husband is gonna get us murdered by someone with road rage because he drives like he's in the Indy 500\\tanger\\t0.773\\n2018-En-02025\\tWhen did it all started? All these depression &amp; anxiety shits?All these suicide thoughts?All of these bad thoughts thts hugging me at night?\\tanger\\t0.724\\n2018-En-01428\\tI think 'Sleep' is my favorite from How did we get so dark?, maybe because I'm insomniac\\tanger\\t0.371\\n2018-En-04078\\tSo happy to be home from Ibiza the place is some thing else mad gaff that , need find a bird now I wanna start doing romantic things now 😂😂\\tanger\\t0.156\\n2018-En-03686\\t@MikeAndMike @Buster_ESPN if you get time.. @Orioles buyers it sellers or what are we going to do!!?! #panic\\tanger\\t0.581\\n2018-En-03488\\tI wish EVERYONE could see how #MSNBC #CNN talked over trumps speech.  You ALL should be ashamed of the along with the sheep followers. \\tanger\\t0.516\\n2018-En-03783\\t@GILMONK1 Maybe to stand in the field to scare away the crows\\tanger\\t0.391\\n2018-En-04302\\tguess who stayed up until 2am just incase someone called but they never did like i knew already , it's me, mistakes were made\\tanger\\t0.406\\n2018-En-01606\\tWe musn't allow bitterness and anger to make our hearts infertile to God’s gifts.\\tanger\\t0.258\\n2018-En-03750\\tand i shouldve cut them off the moment i started hurting myself over them :o\\tanger\\t0.609\\n2018-En-00326\\tAre u sad or upset?\\tanger\\t0.250\\n2018-En-01487\\t@AshleyEmrick Whatever floats your incense boat.\\tanger\\t0.197\\n2018-En-02394\\t@LeahRemini  A 'religion' that pushes people to suicide, and punishes you for doing the right thing?? #heartbreaking\\tanger\\t0.688\\n2018-En-01659\\tI'm soooo annoyed. Wait to start my morning.\\tanger\\t0.907\\n2018-En-02331\\tI wont rt things that might offend your faves bcs I'm better than that\\tanger\\t0.406\\n2018-En-00942\\t@sophieathertonn @lillynewtonx That's actually awful! You are in for a treat when you get home tho!!\\tanger\\t0.438\\n2018-En-03361\\tif not then #teamchristine bc all tana has done is provoke her by tweeting shady shit and trying to be a hard bitch begging for a fight\\tanger\\t0.656\\n2018-En-02930\\tPerks of having that shit: I lost a friend somewhere along in the bitterness\\tanger\\t0.788\\n2018-En-00481\\t@KicchaSudeep No words Sir... Thank you for the concern..\\tanger\\t0.197\\n2018-En-02557\\tTime to #impeachtrump . He is #crazy #mentally #sick and spews #hatred . #America is in trouble with him having #access to #nuclearcodes 👎👎\\tanger\\t0.813\\n2018-En-02497\\tHad frustration dream that left me utterly f**king furious. Plus side: so angry couldn't sleep, wrote 1500 words. Minus side: still raging!\\tanger\\t0.844\\n2018-En-02696\\t@TorridFashion I love you, but between online order drama and your horrible hold music I have a bit of a shopping induced headache. #annoyed\\tanger\\t0.778\\n2018-En-00621\\tquick note about insta stories how the f do you expect me to read a paragraph of a caption in 1 second ???????????? \\tanger\\t0.500\\n2018-En-01543\\t#revenge or #Change . You #ChooseASide for your country #India\\tanger\\t0.397\\n\""
            ]
          },
          "metadata": {
            "tags": []
          },
          "execution_count": 174
        }
      ]
    },
    {
      "cell_type": "code",
      "metadata": {
        "id": "JbZMepfMEA-B",
        "colab_type": "code",
        "outputId": "f8621580-3769-4d8b-815b-d9fa60e9ea08",
        "colab": {
          "base_uri": "https://localhost:8080/",
          "height": 34
        }
      },
      "source": [
        "X_dev[0]"
      ],
      "execution_count": 0,
      "outputs": [
        {
          "output_type": "execute_result",
          "data": {
            "text/plain": [
              "\"'we need to do something. something must be done!!!!!'\\\\n\\\\nyour anxiety is amusing. nothing will be done. despair.\""
            ]
          },
          "metadata": {
            "tags": []
          },
          "execution_count": 89
        }
      ]
    },
    {
      "cell_type": "code",
      "metadata": {
        "id": "-iFMOeDdEpcL",
        "colab_type": "code",
        "outputId": "134f49d9-8a82-44cd-c711-f9439be91018",
        "colab": {
          "base_uri": "https://localhost:8080/",
          "height": 162
        }
      },
      "source": [
        "Y_dev[1]"
      ],
      "execution_count": 0,
      "outputs": [
        {
          "output_type": "error",
          "ename": "NameError",
          "evalue": "ignored",
          "traceback": [
            "\u001b[0;31m---------------------------------------------------------------------------\u001b[0m",
            "\u001b[0;31mNameError\u001b[0m                                 Traceback (most recent call last)",
            "\u001b[0;32m<ipython-input-1-143e1e2254f5>\u001b[0m in \u001b[0;36m<module>\u001b[0;34m()\u001b[0m\n\u001b[0;32m----> 1\u001b[0;31m \u001b[0mY_dev\u001b[0m\u001b[0;34m[\u001b[0m\u001b[0;36m1\u001b[0m\u001b[0;34m]\u001b[0m\u001b[0;34m\u001b[0m\u001b[0;34m\u001b[0m\u001b[0m\n\u001b[0m",
            "\u001b[0;31mNameError\u001b[0m: name 'Y_dev' is not defined"
          ]
        }
      ]
    },
    {
      "cell_type": "code",
      "metadata": {
        "id": "Htj-fs95EsRO",
        "colab_type": "code",
        "outputId": "0d162272-d332-4459-b6c1-c0ced8eee6d0",
        "colab": {
          "base_uri": "https://localhost:8080/",
          "height": 67
        }
      },
      "source": [
        "a=X_dev[:2]\n",
        "a"
      ],
      "execution_count": 0,
      "outputs": [
        {
          "output_type": "execute_result",
          "data": {
            "text/plain": [
              "array([\"'we need to do something. something must be done!!!!!'\\\\n\\\\nyour anxiety is amusing. nothing will be done. despair.\",\n",
              "       \"@Chan_lfc10 @paul_rule @Nuttall1878 @DeadlineDayLive @Everton We'd be fuming if the hijacked our £8m move for a relegated full back 😡\"],\n",
              "      dtype='<U152')"
            ]
          },
          "metadata": {
            "tags": []
          },
          "execution_count": 180
        }
      ]
    },
    {
      "cell_type": "code",
      "metadata": {
        "id": "FBbqLMb_E070",
        "colab_type": "code",
        "colab": {}
      },
      "source": [
        "a1=sentence_to_indices(a,word_to_index,45,words_set)"
      ],
      "execution_count": 0,
      "outputs": []
    },
    {
      "cell_type": "code",
      "metadata": {
        "id": "JruuKLi-Ft7h",
        "colab_type": "code",
        "outputId": "74a47e11-9540-4076-91ce-5039ff15e2e1",
        "colab": {
          "base_uri": "https://localhost:8080/",
          "height": 252
        }
      },
      "source": [
        "a1"
      ],
      "execution_count": 0,
      "outputs": [
        {
          "output_type": "execute_result",
          "data": {
            "text/plain": [
              "array([[384374., 258451., 360915., 126552., 337302., 337302., 253767.,\n",
              "         71090., 400001.,  57164., 192973.,  54224., 264612., 387696.,\n",
              "         71090., 127491., 121937.,      0.,      0.,      0.,      0.,\n",
              "             0.,      0.,      0.,      0.,      0.,      0.,      0.,\n",
              "             0.,      0.,      0.,      0.,      0.,      0.,      0.,\n",
              "             0.,      0.,      0.,      0.,      0.,      0.,      0.,\n",
              "             0.,      0.,      0.],\n",
              "       [384630.,  71090., 155179., 186645., 357266., 178700., 272881.,\n",
              "         40701., 251014., 151349.,  43010., 305014., 155017.,  65680.,\n",
              "             0.,      0.,      0.,      0.,      0.,      0.,      0.,\n",
              "             0.,      0.,      0.,      0.,      0.,      0.,      0.,\n",
              "             0.,      0.,      0.,      0.,      0.,      0.,      0.,\n",
              "             0.,      0.,      0.,      0.,      0.,      0.,      0.,\n",
              "             0.,      0.,      0.]])"
            ]
          },
          "metadata": {
            "tags": []
          },
          "execution_count": 182
        }
      ]
    },
    {
      "cell_type": "code",
      "metadata": {
        "id": "6S_jV3cIFnfn",
        "colab_type": "code",
        "outputId": "6c82a774-f25c-4a70-dc07-c143667defd2",
        "colab": {
          "base_uri": "https://localhost:8080/",
          "height": 34
        }
      },
      "source": [
        "index_to_word[384630]"
      ],
      "execution_count": 0,
      "outputs": [
        {
          "output_type": "execute_result",
          "data": {
            "text/plain": [
              "'wed'"
            ]
          },
          "metadata": {
            "tags": []
          },
          "execution_count": 186
        }
      ]
    },
    {
      "cell_type": "code",
      "metadata": {
        "id": "RJK-OLewFzn5",
        "colab_type": "code",
        "outputId": "41930adc-b6f0-4432-adc1-d452bd197dbe",
        "colab": {
          "base_uri": "https://localhost:8080/",
          "height": 34
        }
      },
      "source": [
        "Y_dev[:2]"
      ],
      "execution_count": 0,
      "outputs": [
        {
          "output_type": "execute_result",
          "data": {
            "text/plain": [
              "array(['0.517', '0.726'], dtype='<U15')"
            ]
          },
          "metadata": {
            "tags": []
          },
          "execution_count": 187
        }
      ]
    },
    {
      "cell_type": "code",
      "metadata": {
        "id": "9n-NHCCpGImV",
        "colab_type": "code",
        "outputId": "1a046ff6-b345-43c9-9222-067dde862016",
        "colab": {
          "base_uri": "https://localhost:8080/",
          "height": 162
        }
      },
      "source": [
        "model.predict(a1)"
      ],
      "execution_count": 0,
      "outputs": [
        {
          "output_type": "error",
          "ename": "NameError",
          "evalue": "ignored",
          "traceback": [
            "\u001b[0;31m---------------------------------------------------------------------------\u001b[0m",
            "\u001b[0;31mNameError\u001b[0m                                 Traceback (most recent call last)",
            "\u001b[0;32m<ipython-input-1-917d1157c92a>\u001b[0m in \u001b[0;36m<module>\u001b[0;34m()\u001b[0m\n\u001b[0;32m----> 1\u001b[0;31m \u001b[0mmodel\u001b[0m\u001b[0;34m.\u001b[0m\u001b[0mpredict\u001b[0m\u001b[0;34m(\u001b[0m\u001b[0ma1\u001b[0m\u001b[0;34m)\u001b[0m\u001b[0;34m\u001b[0m\u001b[0;34m\u001b[0m\u001b[0m\n\u001b[0m",
            "\u001b[0;31mNameError\u001b[0m: name 'model' is not defined"
          ]
        }
      ]
    },
    {
      "cell_type": "code",
      "metadata": {
        "id": "nQew_kmaGa46",
        "colab_type": "code",
        "colab": {}
      },
      "source": [
        ""
      ],
      "execution_count": 0,
      "outputs": []
    }
  ]
}